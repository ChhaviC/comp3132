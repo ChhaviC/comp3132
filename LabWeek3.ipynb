{
  "cells": [
    {
      "cell_type": "markdown",
      "metadata": {
        "id": "view-in-github",
        "colab_type": "text"
      },
      "source": [
        "<a href=\"https://colab.research.google.com/github/ChhaviC/comp3132/blob/main/LabWeek3.ipynb\" target=\"_parent\"><img src=\"https://colab.research.google.com/assets/colab-badge.svg\" alt=\"Open In Colab\"/></a>"
      ]
    },
    {
      "cell_type": "markdown",
      "metadata": {
        "id": "nDnqzTg8PEvr"
      },
      "source": [
        "# Lab Week 3: The mathematical building blocks of neural networks"
      ]
    },
    {
      "cell_type": "markdown",
      "metadata": {
        "id": "YEge0pcbOiiV"
      },
      "source": [
        "This lab is based on the materials of the second chapter the course text book [Deep Learning with Python, Second Edition](https://www.manning.com/books/deep-learning-with-python-second-edition?a_aid=keras&a_bid=76564dff) (See D2l -> Course Information -> Text Book.)"
      ]
    },
    {
      "cell_type": "markdown",
      "metadata": {
        "id": "v-sXL1loQE5M"
      },
      "source": [
        "# Imports"
      ]
    },
    {
      "cell_type": "code",
      "execution_count": null,
      "metadata": {
        "id": "_s8XixgsQFQG"
      },
      "outputs": [],
      "source": [
        "import numpy as np\n",
        "import matplotlib.pyplot as plt\n",
        "import seaborn as sns"
      ]
    },
    {
      "cell_type": "markdown",
      "metadata": {
        "id": "ZgkrwcVVOiiY"
      },
      "source": [
        "# Loading the MNIST dataset in Keras"
      ]
    },
    {
      "cell_type": "code",
      "execution_count": null,
      "metadata": {
        "colab": {
          "base_uri": "https://localhost:8080/"
        },
        "id": "ff8ToQGiOiiZ",
        "outputId": "7626d568-fdb4-4245-d526-1e62d2e991ed"
      },
      "outputs": [
        {
          "output_type": "stream",
          "name": "stdout",
          "text": [
            "Downloading data from https://storage.googleapis.com/tensorflow/tf-keras-datasets/mnist.npz\n",
            "\u001b[1m11490434/11490434\u001b[0m \u001b[32m━━━━━━━━━━━━━━━━━━━━\u001b[0m\u001b[37m\u001b[0m \u001b[1m0s\u001b[0m 0us/step\n"
          ]
        }
      ],
      "source": [
        "from tensorflow.keras.datasets import mnist\n",
        "(train_images_orig, train_labels), (test_images_orig, test_labels) = mnist.load_data()"
      ]
    },
    {
      "cell_type": "code",
      "execution_count": null,
      "metadata": {
        "colab": {
          "base_uri": "https://localhost:8080/"
        },
        "id": "c3HfBsoAOiiZ",
        "outputId": "7822db1a-3937-4881-fe38-f5d71956e943"
      },
      "outputs": [
        {
          "output_type": "execute_result",
          "data": {
            "text/plain": [
              "(60000, 28, 28)"
            ]
          },
          "metadata": {},
          "execution_count": 4
        }
      ],
      "source": [
        "train_images_orig.shape # the shape is (b, w, h)"
      ]
    },
    {
      "cell_type": "code",
      "execution_count": null,
      "metadata": {
        "colab": {
          "base_uri": "https://localhost:8080/"
        },
        "id": "zL8NazN2tw1i",
        "outputId": "95cecef0-8f8b-43ca-958c-7123c5451461"
      },
      "outputs": [
        {
          "output_type": "execute_result",
          "data": {
            "text/plain": [
              "3"
            ]
          },
          "metadata": {},
          "execution_count": 5
        }
      ],
      "source": [
        "train_images_orig.ndim"
      ]
    },
    {
      "cell_type": "markdown",
      "metadata": {
        "id": "eb7ucsx5YZXK"
      },
      "source": [
        "## The shape of image data\n",
        "\n",
        "**Note:** For black-and-white images, the number of channels equals 1, so it is not explicitly mentioned in the data.\n",
        "\n",
        "- color images shape: (samples_n, channel_n, hight, width)\n",
        "- gray images shape: (sample_n, hight, width)\n",
        "\n",
        "\n",
        "![](https://raw.githubusercontent.com/PyDataGBC/PyML2025/refs/heads/main/LabWeek3/assets/image_data.png)"
      ]
    },
    {
      "cell_type": "markdown",
      "metadata": {
        "id": "1wwMR95md_S1"
      },
      "source": [
        "## Exploring the dataset"
      ]
    },
    {
      "cell_type": "code",
      "execution_count": null,
      "metadata": {
        "colab": {
          "base_uri": "https://localhost:8080/",
          "height": 1000
        },
        "id": "XsnT7peEPdll",
        "outputId": "f8aac7ce-b918-4947-d4bb-b7b537635c28"
      },
      "outputs": [
        {
          "output_type": "stream",
          "name": "stdout",
          "text": [
            "sample image shape:  (28, 28)\n",
            "sample image data type:  <class 'numpy.ndarray'>\n",
            "====================================================================================================\n",
            "printing the numerical value of a sample image\n",
            "[[  0   0   0   0   0   0   0   0   0   0   0   0   0   0   0   0   0   0\n",
            "    0   0   0   0   0   0   0   0   0   0]\n",
            " [  0   0   0   0   0   0   0   0   0   0   0   0   0   0   0   0   0   0\n",
            "    0   0   0   0   0   0   0   0   0   0]\n",
            " [  0   0   0   0   0   0   0   0   0   0   0   0   0   0   0   0   0   0\n",
            "    0   0   0   0   0   0   0   0   0   0]\n",
            " [  0   0   0   0   0   0   0   0   0   0   0   0   0   0   0   0   0   0\n",
            "    0   0   0   0   0   0   0   0   0   0]\n",
            " [  0   0   0   0   0   0   0   0   0   0   0   0   0   0   0   0   0   0\n",
            "    0   0   0   0   0   0   0   0   0   0]\n",
            " [  0   0   0   0   0   0   0   0   0   0   0   0   0   0   0   0   0   0\n",
            "    0   0   0   0   0   0   0   0   0   0]\n",
            " [  0   0   0   0   0   0   0   0   0   0   0  23 176 234 234  84  16   0\n",
            "    0   0   0   0   0   0   0   0   0   0]\n",
            " [  0   0   0   0   0   0   0   0   0   0   0  46 244 253 253 253 218  68\n",
            "    0   0   0   0   0   0   0   0   0   0]\n",
            " [  0   0   0   0   0   0   0   0   0   0   0   0 165 236 254 254 255 246\n",
            "   71   0   0   0   0   0   0   0   0   0]\n",
            " [  0   0   0   0   0   0   0   0   0   0   0   0   0  27  39  76 246 253\n",
            "  180   2   0   0   0   0   0   0   0   0]\n",
            " [  0   0   0   0   0   0   0   0   0   0   0   0   0   0   0   0 224 253\n",
            "  198   6   0   0   0   0   0   0   0   0]\n",
            " [  0   0   0   0   0   0   0   0   0   0   0   0   0   0   0   0 163 253\n",
            "  174   0   0   0   0   0   0   0   0   0]\n",
            " [  0   0   0   0   0   0   0   0   0   0  38  76   0   0   0   0 156 253\n",
            "  205   8   0   0   0   0   0   0   0   0]\n",
            " [  0   0   0   0   0   0   0  28 127 209 254 255 254 223 104  59 217 254\n",
            "  254  57   0   0   0   0   0   0   0   0]\n",
            " [  0   0   0   0   0   0   5 165 253 250 233 234 250 253 253 253 254 253\n",
            "  253  37  12   0   0   0   0   0   0   0]\n",
            " [  0   0   0   0   0   0  89 253 253 116   0   0  66 145 247 253 254 253\n",
            "  253 253 223 176 168  79  67   0   0   0]\n",
            " [  0   0   0   0   0   0 209 253 128   2   0  10  47 166 251 253 229 213\n",
            "  241 253 253 254 253 253 250 166   0   0]\n",
            " [  0   0   0   0   0   0 254 253 145  98  98 209 253 253 253 215  23   0\n",
            "   41  58  96 155 147  88 103  14   0   0]\n",
            " [  0   0   0   0   0   0  83 245 254 254 254 255 254 254 184  23   0   0\n",
            "    0   0   0   0   0   0   0   0   0   0]\n",
            " [  0   0   0   0   0   0   0  78 165 233 233 174 135  68   3   0   0   0\n",
            "    0   0   0   0   0   0   0   0   0   0]\n",
            " [  0   0   0   0   0   0   0   0   0   0   0   0   0   0   0   0   0   0\n",
            "    0   0   0   0   0   0   0   0   0   0]\n",
            " [  0   0   0   0   0   0   0   0   0   0   0   0   0   0   0   0   0   0\n",
            "    0   0   0   0   0   0   0   0   0   0]\n",
            " [  0   0   0   0   0   0   0   0   0   0   0   0   0   0   0   0   0   0\n",
            "    0   0   0   0   0   0   0   0   0   0]\n",
            " [  0   0   0   0   0   0   0   0   0   0   0   0   0   0   0   0   0   0\n",
            "    0   0   0   0   0   0   0   0   0   0]\n",
            " [  0   0   0   0   0   0   0   0   0   0   0   0   0   0   0   0   0   0\n",
            "    0   0   0   0   0   0   0   0   0   0]\n",
            " [  0   0   0   0   0   0   0   0   0   0   0   0   0   0   0   0   0   0\n",
            "    0   0   0   0   0   0   0   0   0   0]\n",
            " [  0   0   0   0   0   0   0   0   0   0   0   0   0   0   0   0   0   0\n",
            "    0   0   0   0   0   0   0   0   0   0]\n",
            " [  0   0   0   0   0   0   0   0   0   0   0   0   0   0   0   0   0   0\n",
            "    0   0   0   0   0   0   0   0   0   0]]\n",
            "====================================================================================================\n",
            "0  0  0  0  0  0  0  0  0  0  0  0  0  0  0  0  0  0  0  0  0  0  0  0  0  0  0  0  \n",
            "0  0  0  0  0  0  0  0  0  0  0  0  0  0  0  0  0  0  0  0  0  0  0  0  0  0  0  0  \n",
            "0  0  0  0  0  0  0  0  0  0  0  0  0  0  0  0  0  0  0  0  0  0  0  0  0  0  0  0  \n",
            "0  0  0  0  0  0  0  0  0  0  0  0  0  0  0  0  0  0  0  0  0  0  0  0  0  0  0  0  \n",
            "0  0  0  0  0  0  0  0  0  0  0  0  0  0  0  0  0  0  0  0  0  0  0  0  0  0  0  0  \n",
            "0  0  0  0  0  0  0  0  0  0  0  0  0  0  0  0  0  0  0  0  0  0  0  0  0  0  0  0  \n",
            "0  0  0  0  0  0  0  0  0  0  0  23 17623423484 16 0  0  0  0  0  0  0  0  0  0  0  \n",
            "0  0  0  0  0  0  0  0  0  0  0  46 24425325325321868 0  0  0  0  0  0  0  0  0  0  \n",
            "0  0  0  0  0  0  0  0  0  0  0  0  16523625425425524671 0  0  0  0  0  0  0  0  0  \n",
            "0  0  0  0  0  0  0  0  0  0  0  0  0  27 39 76 2462531802  0  0  0  0  0  0  0  0  \n",
            "0  0  0  0  0  0  0  0  0  0  0  0  0  0  0  0  2242531986  0  0  0  0  0  0  0  0  \n",
            "0  0  0  0  0  0  0  0  0  0  0  0  0  0  0  0  1632531740  0  0  0  0  0  0  0  0  \n",
            "0  0  0  0  0  0  0  0  0  0  38 76 0  0  0  0  1562532058  0  0  0  0  0  0  0  0  \n",
            "0  0  0  0  0  0  0  28 12720925425525422310459 21725425457 0  0  0  0  0  0  0  0  \n",
            "0  0  0  0  0  0  5  16525325023323425025325325325425325337 12 0  0  0  0  0  0  0  \n",
            "0  0  0  0  0  0  89 2532531160  0  66 14524725325425325325322317616879 67 0  0  0  \n",
            "0  0  0  0  0  0  2092531282  0  10 47 1662512532292132412532532542532532501660  0  \n",
            "0  0  0  0  0  0  25425314598 98 20925325325321523 0  41 58 96 15514788 10314 0  0  \n",
            "0  0  0  0  0  0  83 24525425425425525425418423 0  0  0  0  0  0  0  0  0  0  0  0  \n",
            "0  0  0  0  0  0  0  78 16523323317413568 3  0  0  0  0  0  0  0  0  0  0  0  0  0  \n",
            "0  0  0  0  0  0  0  0  0  0  0  0  0  0  0  0  0  0  0  0  0  0  0  0  0  0  0  0  \n",
            "0  0  0  0  0  0  0  0  0  0  0  0  0  0  0  0  0  0  0  0  0  0  0  0  0  0  0  0  \n",
            "0  0  0  0  0  0  0  0  0  0  0  0  0  0  0  0  0  0  0  0  0  0  0  0  0  0  0  0  \n",
            "0  0  0  0  0  0  0  0  0  0  0  0  0  0  0  0  0  0  0  0  0  0  0  0  0  0  0  0  \n",
            "0  0  0  0  0  0  0  0  0  0  0  0  0  0  0  0  0  0  0  0  0  0  0  0  0  0  0  0  \n",
            "0  0  0  0  0  0  0  0  0  0  0  0  0  0  0  0  0  0  0  0  0  0  0  0  0  0  0  0  \n",
            "0  0  0  0  0  0  0  0  0  0  0  0  0  0  0  0  0  0  0  0  0  0  0  0  0  0  0  0  \n",
            "0  0  0  0  0  0  0  0  0  0  0  0  0  0  0  0  0  0  0  0  0  0  0  0  0  0  0  0  \n",
            "====================================================================================================\n"
          ]
        },
        {
          "output_type": "display_data",
          "data": {
            "text/plain": [
              "<Figure size 640x480 with 1 Axes>"
            ],
            "image/png": "[encoded data removed]"
          },
          "metadata": {}
        }
      ],
      "source": [
        "# Note: run this cell multiple times\n",
        "index = np.random.randint(0, 60000)\n",
        "sample_image = train_images_orig[index]\n",
        "\n",
        "print(\"sample image shape: \", sample_image.shape)\n",
        "print(\"sample image data type: \", type(sample_image))\n",
        "\n",
        "print(\"=\" * 100)\n",
        "print(\"printing the numerical value of a sample image\")\n",
        "print(sample_image)\n",
        "\n",
        "# aligning the pixel values in the output\n",
        "print(\"=\" * 100)\n",
        "for row in sample_image:\n",
        "  print(\"\".join([str(elem).ljust(3) for elem in row]))\n",
        "\n",
        "print(\"=\" * 100)\n",
        "plt.imshow(sample_image, cmap=\"gray\")\n",
        "plt.show()\n"
      ]
    },
    {
      "cell_type": "code",
      "execution_count": null,
      "metadata": {
        "colab": {
          "base_uri": "https://localhost:8080/"
        },
        "id": "85wgjeiNOiia",
        "outputId": "2c3c6626-2a52-485d-cd7c-bea17e36a2ff"
      },
      "outputs": [
        {
          "output_type": "execute_result",
          "data": {
            "text/plain": [
              "60000"
            ]
          },
          "metadata": {},
          "execution_count": 7
        }
      ],
      "source": [
        "len(train_labels)"
      ]
    },
    {
      "cell_type": "code",
      "execution_count": null,
      "metadata": {
        "colab": {
          "base_uri": "https://localhost:8080/"
        },
        "id": "3IHiFiByOiia",
        "outputId": "b6d3171a-d86d-4861-c34b-5f136c03ad9c"
      },
      "outputs": [
        {
          "output_type": "execute_result",
          "data": {
            "text/plain": [
              "array([5, 0, 4, ..., 5, 6, 8], dtype=uint8)"
            ]
          },
          "metadata": {},
          "execution_count": 8
        }
      ],
      "source": [
        "train_labels"
      ]
    },
    {
      "cell_type": "code",
      "execution_count": null,
      "metadata": {
        "colab": {
          "base_uri": "https://localhost:8080/"
        },
        "id": "DAsd0NdKOiia",
        "outputId": "6d3f219c-17d0-4ecf-a9a0-c1b49633fcf8"
      },
      "outputs": [
        {
          "output_type": "execute_result",
          "data": {
            "text/plain": [
              "(10000, 28, 28)"
            ]
          },
          "metadata": {},
          "execution_count": 9
        }
      ],
      "source": [
        "test_images_orig.shape"
      ]
    },
    {
      "cell_type": "code",
      "execution_count": null,
      "metadata": {
        "colab": {
          "base_uri": "https://localhost:8080/"
        },
        "id": "QO4S5qBZOiia",
        "outputId": "e6982283-0489-4e78-c319-b25d7ec0e2b0"
      },
      "outputs": [
        {
          "output_type": "execute_result",
          "data": {
            "text/plain": [
              "10000"
            ]
          },
          "metadata": {},
          "execution_count": 10
        }
      ],
      "source": [
        "len(test_labels)"
      ]
    },
    {
      "cell_type": "code",
      "execution_count": null,
      "metadata": {
        "colab": {
          "base_uri": "https://localhost:8080/"
        },
        "id": "wJXBxQrWOiib",
        "outputId": "ecc662c3-2474-45da-ae5c-e591ebc20c8f"
      },
      "outputs": [
        {
          "output_type": "execute_result",
          "data": {
            "text/plain": [
              "array([7, 2, 1, ..., 4, 5, 6], dtype=uint8)"
            ]
          },
          "metadata": {},
          "execution_count": 11
        }
      ],
      "source": [
        "test_labels"
      ]
    },
    {
      "cell_type": "markdown",
      "metadata": {
        "id": "9WvoQhXMA1db"
      },
      "source": [
        "### **Exercise 1:** Display the fourth image in the `test set` with its label."
      ]
    },
    {
      "cell_type": "code",
      "execution_count": null,
      "metadata": {
        "id": "6o0gVaAFA01Y",
        "colab": {
          "base_uri": "https://localhost:8080/",
          "height": 488
        },
        "outputId": "6e231b1e-ea6f-49e2-ea74-2b049f20500c"
      },
      "outputs": [
        {
          "output_type": "stream",
          "name": "stdout",
          "text": [
            "Test Image Shape:  (28, 28)\n",
            "Label:  0\n"
          ]
        },
        {
          "output_type": "display_data",
          "data": {
            "text/plain": [
              "<Figure size 640x480 with 1 Axes>"
            ],
            "image/png": "[encoded data removed]"
          },
          "metadata": {}
        }
      ],
      "source": [
        "index = 3  # Indexing starts from 0, so the fourth image is at position 3\n",
        "test_image = test_images_orig[index]\n",
        "test_label = test_labels[index]\n",
        "\n",
        "print(\"Test Image Shape: \", test_image.shape)\n",
        "print(\"Label: \", test_label)\n",
        "\n",
        "# Visualizing the image\n",
        "plt.imshow(test_image, cmap=\"gray\")\n",
        "plt.title(f\"Label: {test_label}\")\n",
        "plt.show()"
      ]
    },
    {
      "cell_type": "markdown",
      "metadata": {
        "id": "yw3gwShVfieT"
      },
      "source": [
        "# A first look at a neural network"
      ]
    },
    {
      "cell_type": "markdown",
      "metadata": {
        "id": "1lRD_ACCOiib"
      },
      "source": [
        "## **Step 1:** The network architecture"
      ]
    },
    {
      "cell_type": "code",
      "execution_count": null,
      "metadata": {
        "id": "msh9I3NHOiib"
      },
      "outputs": [],
      "source": [
        "from tensorflow import keras\n",
        "from tensorflow.keras import layers\n",
        "model = keras.Sequential([\n",
        "    layers.Dense(512, activation=\"relu\"),\n",
        "    layers.Dense(10, activation=\"softmax\")\n",
        "])"
      ]
    },
    {
      "cell_type": "markdown",
      "metadata": {
        "id": "U-Cul184liV5"
      },
      "source": [
        "<img src=\"https://raw.githubusercontent.com/PyDataGBC/PyML2025/refs/heads/main/LabWeek3/assets/architecture.png\" width=\"1000\" height=\"400\">"
      ]
    },
    {
      "cell_type": "markdown",
      "metadata": {
        "id": "gHueYzDVOiib"
      },
      "source": [
        "### **Input layer** - Preparing the image data\n",
        "\n",
        "**Note: The nodes in the `Input layer` are not neurons. They are pixel values.**"
      ]
    },
    {
      "cell_type": "code",
      "execution_count": null,
      "metadata": {
        "id": "xT2ryOvuOiib"
      },
      "outputs": [],
      "source": [
        "train_images = train_images_orig.reshape((60000, 28 * 28))\n",
        "train_images = train_images.astype(\"float32\") / 255\n",
        "\n",
        "test_images= test_images_orig.reshape((10000, 28 * 28))\n",
        "test_images = test_images.astype(\"float32\") / 255"
      ]
    },
    {
      "cell_type": "markdown",
      "metadata": {
        "id": "5eDL43SvmPQd"
      },
      "source": [
        "### **Exercise 2:** What is the shape of data after preprocessing"
      ]
    },
    {
      "cell_type": "code",
      "execution_count": null,
      "metadata": {
        "id": "2ixny62KmeBM",
        "colab": {
          "base_uri": "https://localhost:8080/"
        },
        "outputId": "c4f6b1a1-9887-4d6a-847d-4f0cc2c367fa"
      },
      "outputs": [
        {
          "output_type": "stream",
          "name": "stdout",
          "text": [
            "Training data shape: (60000, 784)\n",
            "Test data shape: (10000, 784)\n"
          ]
        }
      ],
      "source": [
        "\n",
        "\n",
        "(train_images_orig, train_labels), (test_images_orig, test_labels) = mnist.load_data()\n",
        "train_images = train_images_orig.reshape((60000, 28 * 28)).astype(\"float32\") / 255\n",
        "test_images = test_images_orig.reshape((10000, 28 * 28)).astype(\"float32\") / 255\n",
        "\n",
        "print(\"Training data shape:\", train_images.shape)\n",
        "print(\"Test data shape:\", test_images.shape)\n"
      ]
    },
    {
      "cell_type": "markdown",
      "metadata": {
        "id": "KOOBszTfOiil"
      },
      "source": [
        "### Tensor reshaping"
      ]
    },
    {
      "cell_type": "code",
      "execution_count": null,
      "metadata": {
        "colab": {
          "base_uri": "https://localhost:8080/"
        },
        "id": "FxXrOEwTOiil",
        "outputId": "bdd0451f-31b6-402c-c3a7-9b18f20c7662"
      },
      "outputs": [
        {
          "output_type": "execute_result",
          "data": {
            "text/plain": [
              "(3, 2)"
            ]
          },
          "metadata": {},
          "execution_count": 21
        }
      ],
      "source": [
        "a = np.array([[0., 1.],\n",
        "             [2., 3.],\n",
        "             [4., 5.]])\n",
        "a.shape"
      ]
    },
    {
      "cell_type": "markdown",
      "metadata": {
        "id": "AHR8KC7hBOcE"
      },
      "source": [
        "### **Exercise 3:** reshape the `a` matrix to 6 x 1 matrix."
      ]
    },
    {
      "cell_type": "code",
      "execution_count": null,
      "metadata": {
        "id": "SGJxUrlmBXf6",
        "colab": {
          "base_uri": "https://localhost:8080/"
        },
        "outputId": "32f837d5-d970-4209-afd2-b43827a4a6af"
      },
      "outputs": [
        {
          "output_type": "execute_result",
          "data": {
            "text/plain": [
              "array([[0.],\n",
              "       [1.],\n",
              "       [2.],\n",
              "       [3.],\n",
              "       [4.],\n",
              "       [5.]])"
            ]
          },
          "metadata": {},
          "execution_count": 22
        }
      ],
      "source": [
        "a = np.array([[0., 1.],\n",
        "              [2., 3.],\n",
        "              [4., 5.]])\n",
        "\n",
        "# Reshape the matrix into a 6 x 1 matrix\n",
        "reshaped_a = a.reshape((6, 1))\n",
        "reshaped_a\n"
      ]
    },
    {
      "cell_type": "markdown",
      "metadata": {
        "id": "3eQ4EGfsm4Z6"
      },
      "source": [
        "### **Hidden layer** with `relu` activation function\n",
        "\n",
        "Each neuron in the hidden layer, as illustrated in the figure below, comprises two main components: the summation function and the activation function.\n",
        "\n",
        "In our architecture, we have 512 neurons in the hidden layer."
      ]
    },
    {
      "cell_type": "markdown",
      "metadata": {
        "id": "dOWdc9SdsTiV"
      },
      "source": [
        "<img src=https://raw.githubusercontent.com/PyDataGBC/PyML2025/refs/heads/main/LabWeek3/assets/relu.webp with=\"500\" height=\"300\">"
      ]
    },
    {
      "cell_type": "markdown",
      "metadata": {
        "id": "FynF-azXmJZQ"
      },
      "source": [
        "**The preferred activation function for hidden layers is `relu`. The mathematical function of ReLU is as follows:**\n",
        "\n",
        "$$\n",
        "relu(x) = max(0, x)\n",
        "$$\n",
        "\n",
        "> **Note: ReLU is considered as one of the biggest breakthroughs in deep learning because ReLU makes it possible to train a very deep neural network. It has solved the `vanishing gradient` challenge in `deep` networks with many hidden layers.**\n"
      ]
    },
    {
      "cell_type": "markdown",
      "metadata": {
        "id": "qIQfdpVQwKaS"
      },
      "source": [
        "### **Exercise 4** Write a function that takes a number/array `x` and returns `relu(x)`. Use the `np.maximum()` method in your function. Then, plot this function for x in the range of -5 to 5."
      ]
    },
    {
      "cell_type": "code",
      "execution_count": null,
      "metadata": {
        "id": "tAnajbFMzKEt",
        "colab": {
          "base_uri": "https://localhost:8080/",
          "height": 472
        },
        "outputId": "f5bdf9a7-1348-4639-efd2-0eee9ba1d2d1"
      },
      "outputs": [
        {
          "output_type": "display_data",
          "data": {
            "text/plain": [
              "<Figure size 640x480 with 1 Axes>"
            ],
            "image/png": "[encoded data removed]"
          },
          "metadata": {}
        }
      ],
      "source": [
        "def relu(x):\n",
        "    return np.maximum(0, x)\n",
        "\n",
        "# Generate x values from -5 to 5\n",
        "x = np.linspace(-5, 5, 400)\n",
        "\n",
        "# Apply the relu function to x\n",
        "y = relu(x)\n",
        "\n",
        "# Plot the relu function\n",
        "plt.plot(x, y, label='ReLU')\n",
        "plt.title('ReLU Activation Function')\n",
        "plt.xlabel('x')\n",
        "plt.ylabel('relu(x)')\n",
        "plt.grid(True)\n",
        "plt.legend()\n",
        "plt.show()"
      ]
    },
    {
      "cell_type": "code",
      "execution_count": null,
      "metadata": {
        "colab": {
          "base_uri": "https://localhost:8080/",
          "height": 430
        },
        "id": "OnXGVCwdwKAj",
        "outputId": "92c136dd-deb7-4ea3-d38e-eb23f0739e6e"
      },
      "outputs": [
        {
          "data": {
            "image/png": "[encoded data removed]",
            "text/plain": [
              "<Figure size 640x480 with 1 Axes>"
            ]
          },
          "metadata": {},
          "output_type": "display_data"
        }
      ],
      "source": [
        "# my solution output"
      ]
    },
    {
      "cell_type": "markdown",
      "metadata": {
        "id": "nVhFnoBtwsPo"
      },
      "source": [
        "### **Ecercise 5:** Suppose that I have 5 neurons in my hidden layer. After the summation stage, the result of this layer is `[-10, 5, 0, -2, 6]`. What is the result after passing this through the ReLU activation function?"
      ]
    },
    {
      "cell_type": "markdown",
      "metadata": {
        "id": "5Zz4EWr4wsPo"
      },
      "source": [
        "![](https://raw.githubusercontent.com/PyDataGBC/PyML2025/refs/heads/main/LabWeek3/assets/pass-relu.png)"
      ]
    },
    {
      "cell_type": "markdown",
      "metadata": {
        "id": "iRTghLgywsPo"
      },
      "source": [
        "your answer here:The ReLU function returns 0 for all negative values, and it leaves non-negative values unchanged.\n",
        "Input: [-10, 5, 0, -2, 6]\n",
        "Applying ReLU:\n",
        "max(0, -10) = 0\n",
        "max(0, 5) = 5\n",
        "max(0, 0) = 0\n",
        "max(0, -2) = 0\n",
        "max(0, 6) = 6\n",
        "Result:\n",
        "The result after applying ReLU to [-10, 5, 0, -2, 6] is [0, 5, 0, 0, 6]."
      ]
    },
    {
      "cell_type": "markdown",
      "metadata": {
        "id": "bTTW3sVa0xZz"
      },
      "source": [
        "### **Output layer** - `Sigmoid` and `Softmax` activation function"
      ]
    },
    {
      "cell_type": "markdown",
      "metadata": {
        "id": "LBpOEjCNzRiR"
      },
      "source": [
        "Each neuron in the last layer of the neural network should output a number between 0 and 1 because each neuron represents the probability of the input belonging to a specific class.\n",
        "\n",
        "**Important Note:** The values of the neurons in the last layer before applying the activation function are called `logits` or `scores`.\n",
        "\n",
        "One way to achieve this is by using the sigmoid activation function.\n",
        "\n",
        "The sigmoid function takes an input\n",
        "`x` and outputs a number between 0 and 1.\n",
        "\n",
        "$$\n",
        "\\sigma(x) = \\frac{1}{1 + e^{-x}}\n",
        "$$"
      ]
    },
    {
      "cell_type": "code",
      "execution_count": null,
      "metadata": {
        "colab": {
          "base_uri": "https://localhost:8080/",
          "height": 430
        },
        "id": "fl7icdWsc86A",
        "outputId": "155574ef-b397-4517-f4de-066d671d94dd"
      },
      "outputs": [
        {
          "output_type": "display_data",
          "data": {
            "text/plain": [
              "<Figure size 640x480 with 1 Axes>"
            ],
            "image/png": "[encoded data removed]"
          },
          "metadata": {}
        }
      ],
      "source": [
        "def sigmoid(x):\n",
        "    return 1 / (1 + np.exp(-x))\n",
        "\n",
        "x = np.linspace(-10, 10, 100)\n",
        "y = sigmoid(x)\n",
        "\n",
        "plt.plot(x, y)\n",
        "plt.grid()\n",
        "plt.show()"
      ]
    },
    {
      "cell_type": "markdown",
      "metadata": {
        "id": "zJePFKxXdKBm"
      },
      "source": [
        "### **Exercise 6:** Using the sigmoid function defined in the previous cell, suppose the last layer of a neural network has 4 neurons with the following values: [3.2, 1.3, 0.2, 0.8].\n",
        "  - Apply the sigmoid function to these values to map them to numbers between 0 and 1.\n",
        "  - Then, generate a bar plot of the scaled values.\n",
        "\n",
        "![](https://raw.githubusercontent.com/PyDataGBC/PyML2025/refs/heads/main/LabWeek3/assets/pass-sigmoid.png)"
      ]
    },
    {
      "cell_type": "code",
      "execution_count": null,
      "metadata": {
        "id": "yu6voXKUefdh"
      },
      "outputs": [],
      "source": [
        "\n",
        "logits = np.array([3.2, 1.3, 0.2, 0.8])\n",
        "\n",
        "# Define the sigmoid function\n",
        "def sigmoid(x):\n",
        "    return 1 / (1 + np.exp(-x))\n",
        "\n",
        "# Apply the sigmoid function to logits\n",
        "logits_scaled = sigmoid(logits)"
      ]
    },
    {
      "cell_type": "code",
      "execution_count": null,
      "metadata": {
        "colab": {
          "base_uri": "https://localhost:8080/",
          "height": 472
        },
        "id": "1ZWmslI7emNy",
        "outputId": "3dc7eb63-ce3e-4324-ae75-68fc9f8d377d"
      },
      "outputs": [
        {
          "output_type": "display_data",
          "data": {
            "text/plain": [
              "<Figure size 640x480 with 1 Axes>"
            ],
            "image/png": "[encoded data removed]"
          },
          "metadata": {}
        }
      ],
      "source": [
        "# Plotting the scaled values\n",
        "plt.bar(np.arange(4), logits_scaled)\n",
        "plt.title('Bar Plot of Sigmoid-Scaled Values')\n",
        "plt.xlabel('Neuron Index')\n",
        "plt.ylabel('Scaled Value')\n",
        "plt.xticks(np.arange(4))\n",
        "plt.show()"
      ]
    },
    {
      "cell_type": "markdown",
      "metadata": {
        "id": "RaVOBNzLhz3R"
      },
      "source": [
        "This plot shows the probability distribution over labels. However, there is an issue here: with the sigmoid function, each output is independent and bounded between 0 and 1, but their sum is not constrained to equal 1. To address this, we use the softmax function, which normalizes the outputs so that they sum to 1, ensuring a valid probability distribution over the labels.\n",
        "\n",
        "\n",
        "$$\n",
        "\\text{softmax}(x_i) = \\frac{e^{x_i}}{\\sum_{j=1}^N e^{x_j}}\n",
        "$$"
      ]
    },
    {
      "cell_type": "code",
      "execution_count": null,
      "metadata": {
        "id": "9HKVFpJJj9NC"
      },
      "outputs": [],
      "source": [
        "def softmax(x):\n",
        "  \"\"\"\n",
        "  input x is a vector representing the output of the last layer of a neural network\n",
        "  \"\"\"\n",
        "  return np.exp(x)/sum(np.exp(x))"
      ]
    },
    {
      "cell_type": "markdown",
      "metadata": {
        "id": "IgDgRtDelTWr"
      },
      "source": [
        "### **Exercise 7:** Pass the logits defined in Exercise 6 from the softmax function and plot the probability distribution over the labels."
      ]
    },
    {
      "cell_type": "markdown",
      "metadata": {
        "id": "lvljEk49wsP0"
      },
      "source": [
        "![](https://raw.githubusercontent.com/PyDataGBC/PyML2025/refs/heads/main/LabWeek3/assets/pass-softmax.png)"
      ]
    },
    {
      "cell_type": "code",
      "execution_count": null,
      "metadata": {
        "id": "p4ph_f-KlqIp"
      },
      "outputs": [],
      "source": [
        "\n",
        "logits = np.array([3.2, 1.3, 0.2, 0.8])\n",
        "\n",
        "# Define the softmax function\n",
        "def softmax(z):\n",
        "    e_z = np.exp(z - np.max(z))  # for numerical stability\n",
        "    return e_z / np.sum(e_z)\n",
        "\n",
        "# Apply the softmax function to logits\n",
        "probs = softmax(logits)"
      ]
    },
    {
      "cell_type": "code",
      "execution_count": null,
      "metadata": {
        "colab": {
          "base_uri": "https://localhost:8080/",
          "height": 472
        },
        "id": "R3BIeRX3jfpM",
        "outputId": "bc092615-aaa6-44d3-f46c-d3410eeaa08a"
      },
      "outputs": [
        {
          "output_type": "display_data",
          "data": {
            "text/plain": [
              "<Figure size 640x480 with 1 Axes>"
            ],
            "image/png": "[encoded data removed]"
          },
          "metadata": {}
        }
      ],
      "source": [
        "# Plotting the probability distribution\n",
        "plt.bar(np.arange(4), probs)\n",
        "plt.title('Probability Distribution Over Labels')\n",
        "plt.xlabel('Label Index')\n",
        "plt.ylabel('Probability')\n",
        "plt.xticks(np.arange(4))\n",
        "plt.show()\n"
      ]
    },
    {
      "cell_type": "markdown",
      "metadata": {
        "id": "T5Gnhpe4nZQo"
      },
      "source": [
        "### Exercise 8: Given the `probs` you calculated in the previous Exercise, find the predicted label using `np.argmax()` method."
      ]
    },
    {
      "cell_type": "code",
      "execution_count": null,
      "metadata": {
        "id": "Gd2Cv0Ran9ue"
      },
      "outputs": [],
      "source": [
        "import numpy as np\n",
        "\n",
        "# Logits from previous exercise\n",
        "logits = np.array([3.2, 1.3, 0.2, 0.8])\n",
        "\n",
        "# Softmax probabilities (calculated in previous exercise)\n",
        "probs = softmax(logits)\n",
        "\n",
        "# Find the predicted label using np.argmax()\n",
        "predicted_class = np.argmax(probs)\n"
      ]
    },
    {
      "cell_type": "markdown",
      "metadata": {
        "id": "-ZqsLloUmoXP"
      },
      "source": [
        "> **To summarize so far, the input to the neural network is, for example, an image, and the output is the probability distribution over the labels.**\n",
        "\n",
        "> **You can try [Google Teachable Machine](https://teachablemachine.withgoogle.com/train/image) to explore this concept further.**\n",
        "\n",
        "<img src=https://raw.githubusercontent.com/PyDataGBC/PyML2025/refs/heads/main/LabWeek3/assets/overal_logit-softmax.png height=\"650\" width=\"650\" >\n",
        "\n",
        "\n"
      ]
    },
    {
      "cell_type": "markdown",
      "metadata": {
        "id": "Lql9wyl25aZ_"
      },
      "source": [
        "In the next steps, we will train the neural network defined in step 1. By training the network, we optimize the weights between the neurons."
      ]
    },
    {
      "cell_type": "markdown",
      "metadata": {
        "id": "U0CrTPHfOiib"
      },
      "source": [
        "## **Step 2:** The compilation step"
      ]
    },
    {
      "cell_type": "code",
      "execution_count": null,
      "metadata": {
        "id": "KFJ3F19DOiib"
      },
      "outputs": [],
      "source": [
        "model.compile(optimizer=\"rmsprop\",\n",
        "              loss=\"sparse_categorical_crossentropy\",\n",
        "              metrics=[\"accuracy\"])"
      ]
    },
    {
      "cell_type": "markdown",
      "metadata": {
        "id": "L81NKZviOiic"
      },
      "source": [
        "## **Step 3:** \"Fitting\" the model"
      ]
    },
    {
      "cell_type": "code",
      "execution_count": null,
      "metadata": {
        "colab": {
          "base_uri": "https://localhost:8080/"
        },
        "id": "wskV0N2jOiic",
        "outputId": "02ee9c1d-4c7a-4704-e5b1-5cd123c61b08"
      },
      "outputs": [
        {
          "output_type": "stream",
          "name": "stdout",
          "text": [
            "Epoch 1/5\n",
            "\u001b[1m469/469\u001b[0m \u001b[32m━━━━━━━━━━━━━━━━━━━━\u001b[0m\u001b[37m\u001b[0m \u001b[1m6s\u001b[0m 9ms/step - accuracy: 0.8762 - loss: 0.4370\n",
            "Epoch 2/5\n",
            "\u001b[1m469/469\u001b[0m \u001b[32m━━━━━━━━━━━━━━━━━━━━\u001b[0m\u001b[37m\u001b[0m \u001b[1m6s\u001b[0m 12ms/step - accuracy: 0.9657 - loss: 0.1166\n",
            "Epoch 3/5\n",
            "\u001b[1m469/469\u001b[0m \u001b[32m━━━━━━━━━━━━━━━━━━━━\u001b[0m\u001b[37m\u001b[0m \u001b[1m9s\u001b[0m 10ms/step - accuracy: 0.9782 - loss: 0.0743\n",
            "Epoch 4/5\n",
            "\u001b[1m469/469\u001b[0m \u001b[32m━━━━━━━━━━━━━━━━━━━━\u001b[0m\u001b[37m\u001b[0m \u001b[1m6s\u001b[0m 11ms/step - accuracy: 0.9846 - loss: 0.0514\n",
            "Epoch 5/5\n",
            "\u001b[1m469/469\u001b[0m \u001b[32m━━━━━━━━━━━━━━━━━━━━\u001b[0m\u001b[37m\u001b[0m \u001b[1m11s\u001b[0m 13ms/step - accuracy: 0.9883 - loss: 0.0379\n"
          ]
        },
        {
          "output_type": "execute_result",
          "data": {
            "text/plain": [
              "<keras.src.callbacks.history.History at 0x7d4ae21aed90>"
            ]
          },
          "metadata": {},
          "execution_count": 35
        }
      ],
      "source": [
        "model.fit(train_images, train_labels, epochs=5, batch_size=128)"
      ]
    },
    {
      "cell_type": "markdown",
      "metadata": {
        "id": "MGRD8nxIOiic"
      },
      "source": [
        "## **Step 4:** Using the model to make predictions"
      ]
    },
    {
      "cell_type": "code",
      "execution_count": null,
      "metadata": {
        "colab": {
          "base_uri": "https://localhost:8080/"
        },
        "id": "fSCAAaomOiic",
        "outputId": "5c33bc2a-ba8a-4a27-8fec-ab4df6d4a244"
      },
      "outputs": [
        {
          "output_type": "stream",
          "name": "stdout",
          "text": [
            "\u001b[1m1/1\u001b[0m \u001b[32m━━━━━━━━━━━━━━━━━━━━\u001b[0m\u001b[37m\u001b[0m \u001b[1m0s\u001b[0m 54ms/step\n"
          ]
        },
        {
          "output_type": "execute_result",
          "data": {
            "text/plain": [
              "array([[1.6309153e-08, 4.8701515e-10, 6.4799474e-06, 1.1885406e-05,\n",
              "        3.2060290e-12, 2.0961787e-08, 8.5780070e-13, 9.9998105e-01,\n",
              "        7.5291275e-09, 5.8181257e-07],\n",
              "       [8.3778140e-09, 1.9795586e-06, 9.9998701e-01, 8.7331728e-06,\n",
              "        1.3857676e-15, 3.9189484e-07, 3.1878668e-07, 2.6480271e-14,\n",
              "        1.5838690e-06, 6.0847926e-14],\n",
              "       [1.5930391e-07, 9.9703217e-01, 1.7187555e-04, 5.0797471e-06,\n",
              "        1.8897190e-04, 3.9706651e-05, 1.1177875e-04, 4.8454374e-04,\n",
              "        1.9632876e-03, 2.4169251e-06]], dtype=float32)"
            ]
          },
          "metadata": {},
          "execution_count": 36
        }
      ],
      "source": [
        "test_digits = test_images[:3] #predictiong the label of test_image[0] , test_image[1], test_image[2]\n",
        "predictions = model.predict(test_digits)\n",
        "predictions"
      ]
    },
    {
      "cell_type": "code",
      "source": [],
      "metadata": {
        "id": "SDJmHBF81YXc"
      },
      "execution_count": null,
      "outputs": []
    },
    {
      "cell_type": "markdown",
      "metadata": {
        "id": "ihUfDp-cwMX1"
      },
      "source": [
        "### **Exercise 9:** Interpret the values in the `prediction`array.  "
      ]
    },
    {
      "cell_type": "markdown",
      "metadata": {
        "id": "VLQt6BaRwopn"
      },
      "source": [
        "The values in the prediction array represent the probability distribution over the possible labels after applying the softmax function. These values indicate the likelihood (ranging from 0 to 1) that each label is the correct prediction.your answer here:"
      ]
    },
    {
      "cell_type": "markdown",
      "metadata": {
        "id": "8wcYjgatpscn"
      },
      "source": [
        "### See the result for the prediction of the first image"
      ]
    },
    {
      "cell_type": "code",
      "execution_count": null,
      "metadata": {
        "colab": {
          "base_uri": "https://localhost:8080/"
        },
        "id": "PRoNum0vOiic",
        "outputId": "3bad6dd9-106e-41c9-dfc2-a55a2aca66b0"
      },
      "outputs": [
        {
          "output_type": "stream",
          "name": "stdout",
          "text": [
            "[1.6309153e-08 4.8701515e-10 6.4799474e-06 1.1885406e-05 3.2060290e-12\n",
            " 2.0961787e-08 8.5780070e-13 9.9998105e-01 7.5291275e-09 5.8181257e-07]\n",
            "Predicted label:  7\n"
          ]
        }
      ],
      "source": [
        "print(predictions[0])\n",
        "predicted_label = np.argmax(predictions[0])\n",
        "print(\"Predicted label: \", predicted_label)"
      ]
    },
    {
      "cell_type": "code",
      "execution_count": null,
      "metadata": {
        "colab": {
          "base_uri": "https://localhost:8080/"
        },
        "id": "_uMNt8RBOiic",
        "outputId": "d7d5a87f-751a-497e-9609-251008e50781"
      },
      "outputs": [
        {
          "output_type": "stream",
          "name": "stdout",
          "text": [
            "highest prob:  0.99998105\n"
          ]
        }
      ],
      "source": [
        "print(\"highest prob: \", predictions[0][7])"
      ]
    },
    {
      "cell_type": "code",
      "execution_count": null,
      "metadata": {
        "colab": {
          "base_uri": "https://localhost:8080/"
        },
        "id": "ZIohjja0Oiic",
        "outputId": "18dcbe98-8b99-4fe9-9323-b6c8146e38f6"
      },
      "outputs": [
        {
          "output_type": "stream",
          "name": "stdout",
          "text": [
            "True label:  7\n"
          ]
        }
      ],
      "source": [
        "true_label = test_labels[0]\n",
        "print(\"True label: \", true_label)"
      ]
    },
    {
      "cell_type": "code",
      "execution_count": null,
      "metadata": {
        "colab": {
          "base_uri": "https://localhost:8080/",
          "height": 430
        },
        "id": "v0BQGeFGyB0S",
        "outputId": "99617f0d-6da8-44d6-971f-ddbf0615b2a0"
      },
      "outputs": [
        {
          "data": {
            "image/png": "[encoded data removed]",
            "text/plain": [
              "<Figure size 640x480 with 1 Axes>"
            ]
          },
          "metadata": {},
          "output_type": "display_data"
        }
      ],
      "source": [
        "# plt.bar(np.arange(10), predictions[0])\n",
        "sns.barplot(x=np.arange(10), y=predictions[0], hue=np.arange(10), palette='Set1', legend=False)\n",
        "plt.xticks(np.arange(10))\n",
        "plt.show()"
      ]
    },
    {
      "cell_type": "markdown",
      "metadata": {
        "id": "6Xg5zxooyXsT"
      },
      "source": [
        "> **So, the output distribution of the model is very close to our ideal distribution, which is [0, 0, 0, 0, 0, 0, 0, 1, 0, 0].**\n",
        "\n"
      ]
    },
    {
      "cell_type": "markdown",
      "metadata": {
        "id": "JZOuYKm7ujhX"
      },
      "source": [
        "### **Exercise 10:** Predict the label of the fourth element of the test set.\n",
        "\n",
        "**Important Note: Neural networks are designed to predict labels for a batch of data. For example, in the previous section, we predicted labels for a batch of four images, where the input shape was (4, 784). Similarly, when working with a single image, it must be fed into the network in the batch format with a shape of (1, 784).**"
      ]
    },
    {
      "cell_type": "code",
      "execution_count": null,
      "metadata": {
        "id": "I6IMdmOyvW2a",
        "colab": {
          "base_uri": "https://localhost:8080/"
        },
        "outputId": "2b683e87-0f8a-4c6d-8570-14a0d785fb19"
      },
      "outputs": [
        {
          "output_type": "stream",
          "name": "stdout",
          "text": [
            "The predicted label for the fourth image is: 1\n"
          ]
        }
      ],
      "source": [
        "import numpy as np\n",
        "import matplotlib.pyplot as plt\n",
        "from tensorflow.keras.datasets import mnist\n",
        "\n",
        "# Load the MNIST dataset\n",
        "(_, _), (test_images_orig, test_labels) = mnist.load_data()\n",
        "\n",
        "# Extract the fourth image from the test set\n",
        "fourth_image = test_images_orig[3]  # indexing starts from 0\n",
        "\n",
        "# Reshape the image to the required input shape (1, 784)\n",
        "fourth_image_reshaped = fourth_image.reshape((1, 28 * 28)).astype(\"float32\") / 255\n",
        "\n",
        "# Define the softmax function (can be used if predictions are not done)\n",
        "def softmax(z):\n",
        "    e_z = np.exp(z - np.max(z))  # for numerical stability\n",
        "    return e_z / np.sum(e_z)\n",
        "\n",
        "# Assuming you have already a model that gives logits\n",
        "# For demonstration, let's assume you already have logits from the model for the given image\n",
        "# logits_for_fourth_image = your_model.predict(fourth_image_reshaped)\n",
        "\n",
        "# Using the provided logits as example for now\n",
        "# logits_for_fourth_image = np.array([...])  # Replace this with the actual logits from your model\n",
        "\n",
        "# Calculate the probabilities using softmax\n",
        "# probs = softmax(logits_for_fourth_image)\n",
        "\n",
        "# Use np.argmax to find the predicted label\n",
        "predicted_label = np.argmax(probs)\n",
        "\n",
        "print(f'The predicted label for the fourth image is: {predicted_label}')\n"
      ]
    },
    {
      "cell_type": "markdown",
      "metadata": {
        "id": "PP970c2wOiic"
      },
      "source": [
        "## **Step 5:** Evaluating the model on new data"
      ]
    },
    {
      "cell_type": "code",
      "execution_count": null,
      "metadata": {
        "colab": {
          "base_uri": "https://localhost:8080/"
        },
        "id": "sqtlOxVsOiic",
        "outputId": "bf842fa8-e3e8-472d-e1e5-3e73d2472f43"
      },
      "outputs": [
        {
          "output_type": "stream",
          "name": "stdout",
          "text": [
            "\u001b[1m313/313\u001b[0m \u001b[32m━━━━━━━━━━━━━━━━━━━━\u001b[0m\u001b[37m\u001b[0m \u001b[1m1s\u001b[0m 4ms/step - accuracy: 0.9783 - loss: 0.0751\n",
            "test_acc: 0.9811999797821045\n"
          ]
        }
      ],
      "source": [
        "test_loss, test_acc = model.evaluate(test_images, test_labels)\n",
        "print(f\"test_acc: {test_acc}\")"
      ]
    },
    {
      "cell_type": "markdown",
      "metadata": {
        "id": "wV2CcxlmxFUC"
      },
      "source": [
        "**Note:** We will discuss `optimizer`, `loss`, `epoch`, and `batch` in more depth in the coming weeks."
      ]
    }
  ],
  "metadata": {
    "colab": {
      "provenance": [],
      "include_colab_link": true
    },
    "kernelspec": {
      "display_name": "Python 3",
      "language": "python",
      "name": "python3"
    },
    "language_info": {
      "codemirror_mode": {
        "name": "ipython",
        "version": 3
      },
      "file_extension": ".py",
      "mimetype": "text/x-python",
      "name": "python",
      "nbconvert_exporter": "python",
      "pygments_lexer": "ipython3",
      "version": "3.7.0"
    }
  },
  "nbformat": 4,
  "nbformat_minor": 0
}