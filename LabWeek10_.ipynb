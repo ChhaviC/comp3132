{
  "cells": [
    {
      "cell_type": "markdown",
      "metadata": {
        "id": "view-in-github",
        "colab_type": "text"
      },
      "source": [
        "<a href=\"https://colab.research.google.com/github/ChhaviC/comp3132/blob/main/LabWeek10_.ipynb\" target=\"_parent\"><img src=\"https://colab.research.google.com/assets/colab-badge.svg\" alt=\"Open In Colab\"/></a>"
      ]
    },
    {
      "cell_type": "markdown",
      "metadata": {
        "id": "-KZ3H6cPHW_l"
      },
      "source": [
        " ## Lab - Week 10 - Dropout"
      ]
    },
    {
      "cell_type": "markdown",
      "metadata": {
        "id": "n1Gyq07MHW_n"
      },
      "source": [
        "### Ways to reduce overfitting in neural networks - all come at a cost\n",
        " - Getting more training data\n",
        " - Reducing the capacity of the network (last week's lab)\n",
        " - Adding weight regularization (last week's lab)\n",
        " - Adding dropout (the subject for this week)"
      ]
    },
    {
      "cell_type": "markdown",
      "metadata": {
        "id": "U2LCwW3jHW_n"
      },
      "source": [
        "### Typical training and validation loss over time\n",
        "![](https://miro.medium.com/v2/resize:fit:720/format:webp/1*0VWDpLIRcMTssDf-zyOR4w.jpeg)"
      ]
    },
    {
      "cell_type": "markdown",
      "metadata": {
        "id": "PKIcK30CHW_o"
      },
      "source": [
        "## Using dropout to reduce overfitting\n",
        "\n",
        "Dropout is one of the most effective and most commonly used regularization techniques for neural networks, developed by Hinton and his\n",
        "students at the University of Toronto. Dropout, applied to a layer, consists of randomly \"dropping out\" (i.e. setting to zero) a number of\n",
        "output features of the layer during training. Let's say a given layer would normally have returned a vector `[0.2, 0.5, 1.3, 0.8, 1.1]` for a\n",
        "given input sample during training; after applying dropout, this vector will have a few zero entries distributed at random, e.g. `[0, 0.5,\n",
        "1.3, 0, 1.1]`. The \"dropout rate\" is the fraction of the features that are being zeroed-out; it is usually set between 0.2 and 0.5. At test\n",
        "time, no units are dropped out, and instead the layer's output values are scaled down by a factor equal to the dropout rate, so as to\n",
        "balance for the fact that more units are active than at training time.\n",
        "\n",
        "![dropout](https://cdn-images-1.medium.com/max/1600/1*iWQzxhVlvadk6VAJjsgXgg.png)"
      ]
    },
    {
      "cell_type": "markdown",
      "metadata": {
        "id": "uOzUdFTjHW_o"
      },
      "source": [
        "In Keras you can introduce dropout in a network via the `Dropout` layer, which gets applied to the output of layer right before it, e.g.:\n",
        "```python\n",
        "model.add(layers.Dropout(0.5))\n",
        "```"
      ]
    },
    {
      "cell_type": "code",
      "execution_count": null,
      "metadata": {
        "colab": {
          "base_uri": "https://localhost:8080/",
          "height": 35
        },
        "id": "gu2eabBMHW_o",
        "outputId": "dfc5f9d8-902b-4b0a-f580-ced799f9ae74"
      },
      "outputs": [
        {
          "output_type": "execute_result",
          "data": {
            "text/plain": [
              "'3.8.0'"
            ],
            "application/vnd.google.colaboratory.intrinsic+json": {
              "type": "string"
            }
          },
          "metadata": {},
          "execution_count": 4
        }
      ],
      "source": [
        "import keras\n",
        "keras.__version__"
      ]
    },
    {
      "cell_type": "markdown",
      "metadata": {
        "id": "WkIaFw9JHW_p"
      },
      "source": [
        "### Part 1: Load and Prepare Data - IMDB dataset (same as last week)"
      ]
    },
    {
      "cell_type": "code",
      "execution_count": null,
      "metadata": {
        "id": "vCDzp-x2HW_p",
        "colab": {
          "base_uri": "https://localhost:8080/"
        },
        "outputId": "6719f084-2be7-4a7b-89fe-ef56474c735f"
      },
      "outputs": [
        {
          "output_type": "stream",
          "name": "stdout",
          "text": [
            "Downloading data from https://storage.googleapis.com/tensorflow/tf-keras-datasets/imdb.npz\n",
            "\u001b[1m17464789/17464789\u001b[0m \u001b[32m━━━━━━━━━━━━━━━━━━━━\u001b[0m\u001b[37m\u001b[0m \u001b[1m0s\u001b[0m 0us/step\n"
          ]
        }
      ],
      "source": [
        "from keras import models\n",
        "from keras import layers\n",
        "from keras.datasets import imdb\n",
        "import numpy as np\n",
        "\n",
        "(train_data, train_labels), (test_data, test_labels) = imdb.load_data(num_words=10000)\n",
        "\n",
        "def vectorize_sequences(sequences, dimension=10000):\n",
        "    # Create an all-zero matrix of shape (len(sequences), dimension)\n",
        "    results = np.zeros((len(sequences), dimension))\n",
        "    for i, sequence in enumerate(sequences):\n",
        "      for j in sequence:\n",
        "        results[i, j] = 1.  # set specific indices of results[i] to 1s\n",
        "    return results\n",
        "\n",
        "# Our vectorized training data\n",
        "x_train = vectorize_sequences(train_data)\n",
        "# Our vectorized test data\n",
        "x_test = vectorize_sequences(test_data)\n",
        "# Our vectorized labels\n",
        "y_train = np.asarray(train_labels).astype('float32')\n",
        "y_test = np.asarray(test_labels).astype('float32')"
      ]
    },
    {
      "cell_type": "markdown",
      "source": [
        "**As a routine, perform a sanity check on the dataset to understand the shape of the train and test inputs and outputs, and print out a sample of the data.**"
      ],
      "metadata": {
        "id": "6mcnHGpPI4RT"
      }
    },
    {
      "cell_type": "code",
      "source": [
        "# Perform a sanity check\n",
        "print(\"Shape of x_train:\", x_train.shape)  # Should be (25000, 10000)\n",
        "print(\"Shape of x_test:\", x_test.shape)    # Should be (25000, 10000)\n",
        "print(\"Shape of y_train:\", y_train.shape)  # Should be (25000,)\n",
        "print(\"Shape of y_test:\", y_test.shape)    # Should be (25000,)\n",
        "\n",
        "# Print a sample of the data\n",
        "print(\"\\nSample input (vectorized):\", x_train[0][:20])  # Print first 20 values of first sample\n",
        "print(\"Corresponding label:\", y_train[0])  # Print the label for the first sample\n"
      ],
      "metadata": {
        "id": "Gs8Hv3noI4wp",
        "colab": {
          "base_uri": "https://localhost:8080/"
        },
        "outputId": "1869e5bc-3b74-4cc4-f2fc-3ed648319168"
      },
      "execution_count": null,
      "outputs": [
        {
          "output_type": "stream",
          "name": "stdout",
          "text": [
            "Shape of x_train: (25000, 10000)\n",
            "Shape of x_test: (25000, 10000)\n",
            "Shape of y_train: (25000,)\n",
            "Shape of y_test: (25000,)\n",
            "\n",
            "Sample input (vectorized): [0. 1. 1. 0. 1. 1. 1. 1. 1. 1. 0. 0. 1. 1. 1. 1. 1. 1. 1. 1.]\n",
            "Corresponding label: 1.0\n"
          ]
        }
      ]
    },
    {
      "cell_type": "markdown",
      "metadata": {
        "id": "226Ka3mbHW_q"
      },
      "source": [
        "### Part 2: Build a Simple Neural Network Model\n",
        "Objective: Create a basic neural network model using Keras.\n",
        "\n",
        "**Questions**\n",
        "- What type of classification problem are we solving?\n",
        "- How many neurons should there be in the output layer?\n",
        "- What should be the activation function of the output layer?\n",
        "- What loss function should be used?\n",
        "- What activation function should be used on the hidden layers?\n",
        "\n",
        "\n",
        "Build a sequential model with ne dense layer with 8 units and train it for 20 epochs.\n",
        "\n",
        "Complete the code below:"
      ]
    },
    {
      "cell_type": "code",
      "execution_count": null,
      "metadata": {
        "id": "okbbHS6BHW_q",
        "colab": {
          "base_uri": "https://localhost:8080/",
          "height": 199
        },
        "outputId": "77297957-5468-4791-cb74-4cc66aa53d71"
      },
      "outputs": [
        {
          "output_type": "display_data",
          "data": {
            "text/plain": [
              "\u001b[1mModel: \"sequential_2\"\u001b[0m\n"
            ],
            "text/html": [
              "<pre style=\"white-space:pre;overflow-x:auto;line-height:normal;font-family:Menlo,'DejaVu Sans Mono',consolas,'Courier New',monospace\"><span style=\"font-weight: bold\">Model: \"sequential_2\"</span>\n",
              "</pre>\n"
            ]
          },
          "metadata": {}
        },
        {
          "output_type": "display_data",
          "data": {
            "text/plain": [
              "┏━━━━━━━━━━━━━━━━━━━━━━━━━━━━━━━━━━━━━━┳━━━━━━━━━━━━━━━━━━━━━━━━━━━━━┳━━━━━━━━━━━━━━━━━┓\n",
              "┃\u001b[1m \u001b[0m\u001b[1mLayer (type)                        \u001b[0m\u001b[1m \u001b[0m┃\u001b[1m \u001b[0m\u001b[1mOutput Shape               \u001b[0m\u001b[1m \u001b[0m┃\u001b[1m \u001b[0m\u001b[1m        Param #\u001b[0m\u001b[1m \u001b[0m┃\n",
              "┡━━━━━━━━━━━━━━━━━━━━━━━━━━━━━━━━━━━━━━╇━━━━━━━━━━━━━━━━━━━━━━━━━━━━━╇━━━━━━━━━━━━━━━━━┩\n",
              "│ dense_6 (\u001b[38;5;33mDense\u001b[0m)                      │ (\u001b[38;5;45mNone\u001b[0m, \u001b[38;5;34m8\u001b[0m)                   │          \u001b[38;5;34m80,008\u001b[0m │\n",
              "├──────────────────────────────────────┼─────────────────────────────┼─────────────────┤\n",
              "│ dense_7 (\u001b[38;5;33mDense\u001b[0m)                      │ (\u001b[38;5;45mNone\u001b[0m, \u001b[38;5;34m1\u001b[0m)                   │               \u001b[38;5;34m9\u001b[0m │\n",
              "└──────────────────────────────────────┴─────────────────────────────┴─────────────────┘\n"
            ],
            "text/html": [
              "<pre style=\"white-space:pre;overflow-x:auto;line-height:normal;font-family:Menlo,'DejaVu Sans Mono',consolas,'Courier New',monospace\">┏━━━━━━━━━━━━━━━━━━━━━━━━━━━━━━━━━━━━━━┳━━━━━━━━━━━━━━━━━━━━━━━━━━━━━┳━━━━━━━━━━━━━━━━━┓\n",
              "┃<span style=\"font-weight: bold\"> Layer (type)                         </span>┃<span style=\"font-weight: bold\"> Output Shape                </span>┃<span style=\"font-weight: bold\">         Param # </span>┃\n",
              "┡━━━━━━━━━━━━━━━━━━━━━━━━━━━━━━━━━━━━━━╇━━━━━━━━━━━━━━━━━━━━━━━━━━━━━╇━━━━━━━━━━━━━━━━━┩\n",
              "│ dense_6 (<span style=\"color: #0087ff; text-decoration-color: #0087ff\">Dense</span>)                      │ (<span style=\"color: #00d7ff; text-decoration-color: #00d7ff\">None</span>, <span style=\"color: #00af00; text-decoration-color: #00af00\">8</span>)                   │          <span style=\"color: #00af00; text-decoration-color: #00af00\">80,008</span> │\n",
              "├──────────────────────────────────────┼─────────────────────────────┼─────────────────┤\n",
              "│ dense_7 (<span style=\"color: #0087ff; text-decoration-color: #0087ff\">Dense</span>)                      │ (<span style=\"color: #00d7ff; text-decoration-color: #00d7ff\">None</span>, <span style=\"color: #00af00; text-decoration-color: #00af00\">1</span>)                   │               <span style=\"color: #00af00; text-decoration-color: #00af00\">9</span> │\n",
              "└──────────────────────────────────────┴─────────────────────────────┴─────────────────┘\n",
              "</pre>\n"
            ]
          },
          "metadata": {}
        },
        {
          "output_type": "display_data",
          "data": {
            "text/plain": [
              "\u001b[1m Total params: \u001b[0m\u001b[38;5;34m80,017\u001b[0m (312.57 KB)\n"
            ],
            "text/html": [
              "<pre style=\"white-space:pre;overflow-x:auto;line-height:normal;font-family:Menlo,'DejaVu Sans Mono',consolas,'Courier New',monospace\"><span style=\"font-weight: bold\"> Total params: </span><span style=\"color: #00af00; text-decoration-color: #00af00\">80,017</span> (312.57 KB)\n",
              "</pre>\n"
            ]
          },
          "metadata": {}
        },
        {
          "output_type": "display_data",
          "data": {
            "text/plain": [
              "\u001b[1m Trainable params: \u001b[0m\u001b[38;5;34m80,017\u001b[0m (312.57 KB)\n"
            ],
            "text/html": [
              "<pre style=\"white-space:pre;overflow-x:auto;line-height:normal;font-family:Menlo,'DejaVu Sans Mono',consolas,'Courier New',monospace\"><span style=\"font-weight: bold\"> Trainable params: </span><span style=\"color: #00af00; text-decoration-color: #00af00\">80,017</span> (312.57 KB)\n",
              "</pre>\n"
            ]
          },
          "metadata": {}
        },
        {
          "output_type": "display_data",
          "data": {
            "text/plain": [
              "\u001b[1m Non-trainable params: \u001b[0m\u001b[38;5;34m0\u001b[0m (0.00 B)\n"
            ],
            "text/html": [
              "<pre style=\"white-space:pre;overflow-x:auto;line-height:normal;font-family:Menlo,'DejaVu Sans Mono',consolas,'Courier New',monospace\"><span style=\"font-weight: bold\"> Non-trainable params: </span><span style=\"color: #00af00; text-decoration-color: #00af00\">0</span> (0.00 B)\n",
              "</pre>\n"
            ]
          },
          "metadata": {}
        }
      ],
      "source": [
        "# TODO fix this code\n",
        "  # Add a single hidden layer with 8 units and proper activation\n",
        "  # Compile the model with an appropriate optimizer, loss function, and evaluation metric.\n",
        "  # Show the summary of the model\n",
        "\n",
        "from keras import models, layers, optimizers, losses, metrics\n",
        "\n",
        "# Define the model\n",
        "model = models.Sequential()\n",
        "# Add a single hidden layer with 8 units and ReLU activation\n",
        "model.add(layers.Dense(8, activation='relu', input_shape=(10000,)))\n",
        "# Output layer with 1 neuron for binary classification and sigmoid activation\n",
        "model.add(layers.Dense(1, activation='sigmoid'))\n",
        "\n",
        "# Compile the model with appropriate settings\n",
        "model.compile(optimizer='adam',\n",
        "              loss='binary_crossentropy',  # Since it's a binary classification problem\n",
        "              metrics=['accuracy'])\n",
        "\n",
        "# Show the summary of the model\n",
        "model.summary()\n",
        "\n",
        "\n",
        "\n",
        "\n"
      ]
    },
    {
      "cell_type": "code",
      "source": [
        "# Train the model for 20 epochs with batch size 512\n",
        "hist_a = model.fit(x_train, y_train, epochs=20, batch_size=512, validation_data=(x_test, y_test))\n",
        "\n",
        "# Evaluate the model\n",
        "evaluation_results = model.evaluate(x_test, y_test)\n",
        "print(\"Test accuracy:\", evaluation_results[1])\n"
      ],
      "metadata": {
        "id": "M-7eT3thJ6LD",
        "colab": {
          "base_uri": "https://localhost:8080/"
        },
        "outputId": "21915455-2998-4a81-e008-a982b307e3fa"
      },
      "execution_count": null,
      "outputs": [
        {
          "output_type": "stream",
          "name": "stdout",
          "text": [
            "Epoch 1/20\n",
            "\u001b[1m49/49\u001b[0m \u001b[32m━━━━━━━━━━━━━━━━━━━━\u001b[0m\u001b[37m\u001b[0m \u001b[1m6s\u001b[0m 88ms/step - accuracy: 0.7164 - loss: 0.5980 - val_accuracy: 0.8633 - val_loss: 0.3903\n",
            "Epoch 2/20\n",
            "\u001b[1m49/49\u001b[0m \u001b[32m━━━━━━━━━━━━━━━━━━━━\u001b[0m\u001b[37m\u001b[0m \u001b[1m3s\u001b[0m 42ms/step - accuracy: 0.8941 - loss: 0.3273 - val_accuracy: 0.8820 - val_loss: 0.3193\n",
            "Epoch 3/20\n",
            "\u001b[1m49/49\u001b[0m \u001b[32m━━━━━━━━━━━━━━━━━━━━\u001b[0m\u001b[37m\u001b[0m \u001b[1m2s\u001b[0m 37ms/step - accuracy: 0.9216 - loss: 0.2469 - val_accuracy: 0.8866 - val_loss: 0.2949\n",
            "Epoch 4/20\n",
            "\u001b[1m49/49\u001b[0m \u001b[32m━━━━━━━━━━━━━━━━━━━━\u001b[0m\u001b[37m\u001b[0m \u001b[1m2s\u001b[0m 50ms/step - accuracy: 0.9341 - loss: 0.2093 - val_accuracy: 0.8876 - val_loss: 0.2862\n",
            "Epoch 5/20\n",
            "\u001b[1m49/49\u001b[0m \u001b[32m━━━━━━━━━━━━━━━━━━━━\u001b[0m\u001b[37m\u001b[0m \u001b[1m3s\u001b[0m 61ms/step - accuracy: 0.9430 - loss: 0.1841 - val_accuracy: 0.8861 - val_loss: 0.2860\n",
            "Epoch 6/20\n",
            "\u001b[1m49/49\u001b[0m \u001b[32m━━━━━━━━━━━━━━━━━━━━\u001b[0m\u001b[37m\u001b[0m \u001b[1m2s\u001b[0m 36ms/step - accuracy: 0.9521 - loss: 0.1616 - val_accuracy: 0.8864 - val_loss: 0.2870\n",
            "Epoch 7/20\n",
            "\u001b[1m49/49\u001b[0m \u001b[32m━━━━━━━━━━━━━━━━━━━━\u001b[0m\u001b[37m\u001b[0m \u001b[1m2s\u001b[0m 35ms/step - accuracy: 0.9566 - loss: 0.1464 - val_accuracy: 0.8840 - val_loss: 0.2927\n",
            "Epoch 8/20\n",
            "\u001b[1m49/49\u001b[0m \u001b[32m━━━━━━━━━━━━━━━━━━━━\u001b[0m\u001b[37m\u001b[0m \u001b[1m3s\u001b[0m 35ms/step - accuracy: 0.9601 - loss: 0.1330 - val_accuracy: 0.8801 - val_loss: 0.3013\n",
            "Epoch 9/20\n",
            "\u001b[1m49/49\u001b[0m \u001b[32m━━━━━━━━━━━━━━━━━━━━\u001b[0m\u001b[37m\u001b[0m \u001b[1m3s\u001b[0m 37ms/step - accuracy: 0.9634 - loss: 0.1276 - val_accuracy: 0.8791 - val_loss: 0.3079\n",
            "Epoch 10/20\n",
            "\u001b[1m49/49\u001b[0m \u001b[32m━━━━━━━━━━━━━━━━━━━━\u001b[0m\u001b[37m\u001b[0m \u001b[1m4s\u001b[0m 61ms/step - accuracy: 0.9695 - loss: 0.1118 - val_accuracy: 0.8777 - val_loss: 0.3170\n",
            "Epoch 11/20\n",
            "\u001b[1m49/49\u001b[0m \u001b[32m━━━━━━━━━━━━━━━━━━━━\u001b[0m\u001b[37m\u001b[0m \u001b[1m4s\u001b[0m 36ms/step - accuracy: 0.9719 - loss: 0.1014 - val_accuracy: 0.8746 - val_loss: 0.3278\n",
            "Epoch 12/20\n",
            "\u001b[1m49/49\u001b[0m \u001b[32m━━━━━━━━━━━━━━━━━━━━\u001b[0m\u001b[37m\u001b[0m \u001b[1m2s\u001b[0m 36ms/step - accuracy: 0.9746 - loss: 0.0981 - val_accuracy: 0.8734 - val_loss: 0.3379\n",
            "Epoch 13/20\n",
            "\u001b[1m49/49\u001b[0m \u001b[32m━━━━━━━━━━━━━━━━━━━━\u001b[0m\u001b[37m\u001b[0m \u001b[1m2s\u001b[0m 36ms/step - accuracy: 0.9764 - loss: 0.0898 - val_accuracy: 0.8718 - val_loss: 0.3492\n",
            "Epoch 14/20\n",
            "\u001b[1m49/49\u001b[0m \u001b[32m━━━━━━━━━━━━━━━━━━━━\u001b[0m\u001b[37m\u001b[0m \u001b[1m4s\u001b[0m 58ms/step - accuracy: 0.9784 - loss: 0.0841 - val_accuracy: 0.8699 - val_loss: 0.3621\n",
            "Epoch 15/20\n",
            "\u001b[1m49/49\u001b[0m \u001b[32m━━━━━━━━━━━━━━━━━━━━\u001b[0m\u001b[37m\u001b[0m \u001b[1m4s\u001b[0m 41ms/step - accuracy: 0.9809 - loss: 0.0788 - val_accuracy: 0.8690 - val_loss: 0.3731\n",
            "Epoch 16/20\n",
            "\u001b[1m49/49\u001b[0m \u001b[32m━━━━━━━━━━━━━━━━━━━━\u001b[0m\u001b[37m\u001b[0m \u001b[1m2s\u001b[0m 36ms/step - accuracy: 0.9832 - loss: 0.0734 - val_accuracy: 0.8666 - val_loss: 0.3872\n",
            "Epoch 17/20\n",
            "\u001b[1m49/49\u001b[0m \u001b[32m━━━━━━━━━━━━━━━━━━━━\u001b[0m\u001b[37m\u001b[0m \u001b[1m3s\u001b[0m 40ms/step - accuracy: 0.9851 - loss: 0.0683 - val_accuracy: 0.8661 - val_loss: 0.3982\n",
            "Epoch 18/20\n",
            "\u001b[1m49/49\u001b[0m \u001b[32m━━━━━━━━━━━━━━━━━━━━\u001b[0m\u001b[37m\u001b[0m \u001b[1m3s\u001b[0m 56ms/step - accuracy: 0.9868 - loss: 0.0634 - val_accuracy: 0.8650 - val_loss: 0.4118\n",
            "Epoch 19/20\n",
            "\u001b[1m49/49\u001b[0m \u001b[32m━━━━━━━━━━━━━━━━━━━━\u001b[0m\u001b[37m\u001b[0m \u001b[1m4s\u001b[0m 36ms/step - accuracy: 0.9880 - loss: 0.0598 - val_accuracy: 0.8635 - val_loss: 0.4240\n",
            "Epoch 20/20\n",
            "\u001b[1m49/49\u001b[0m \u001b[32m━━━━━━━━━━━━━━━━━━━━\u001b[0m\u001b[37m\u001b[0m \u001b[1m3s\u001b[0m 43ms/step - accuracy: 0.9910 - loss: 0.0557 - val_accuracy: 0.8634 - val_loss: 0.4361\n",
            "\u001b[1m782/782\u001b[0m \u001b[32m━━━━━━━━━━━━━━━━━━━━\u001b[0m\u001b[37m\u001b[0m \u001b[1m2s\u001b[0m 3ms/step - accuracy: 0.8630 - loss: 0.4389\n",
            "Test accuracy: 0.8633999824523926\n"
          ]
        }
      ]
    },
    {
      "cell_type": "markdown",
      "metadata": {
        "id": "zEQ_YfNAHW_q"
      },
      "source": [
        "### Part 3: Visualize Training and Validation Performance\n",
        "\n",
        "The function below can be used later to plot the loss and accuracy from the model training history"
      ]
    },
    {
      "cell_type": "code",
      "execution_count": null,
      "metadata": {
        "id": "SrGvjNLIHW_q"
      },
      "outputs": [],
      "source": [
        "import matplotlib.pyplot as plt\n",
        "\n",
        "# Colors will be used to plot different models below\n",
        "colors = ['blue', 'red', 'green', 'purple', 'orange', 'brown', 'pink', 'gray', 'olive', 'cyan']\n",
        "\n",
        "def plot_history(history, color='blue', prefix=\"\"):\n",
        "    history_dict = history.history\n",
        "    loss_values = history_dict[\"loss\"]\n",
        "    val_loss_values = history_dict[\"val_loss\"]\n",
        "    accuracy_values = history_dict[\"accuracy\"]  # Corrected key\n",
        "    val_accuracy_values = history_dict[\"val_accuracy\"]  # Corrected key\n",
        "    epochs = range(1, len(loss_values) + 1)\n",
        "\n",
        "    # Create figure\n",
        "    plt.figure(figsize=(12, 5))\n",
        "\n",
        "    # Plot the loss\n",
        "    plt.subplot(1, 2, 1)\n",
        "    plt.plot(epochs, loss_values, \"o\", color=color, label=prefix + \" Training loss\")\n",
        "    plt.plot(epochs, val_loss_values, color=color, linestyle=\"dashed\", label=prefix + \" Validation loss\")\n",
        "    plt.title(\"Training and Validation Loss\")\n",
        "    plt.xlabel(\"Epochs\")\n",
        "    plt.ylabel(\"Loss\")\n",
        "    plt.legend(framealpha=0.5)\n",
        "    plt.grid()\n",
        "\n",
        "    # Plot the accuracy\n",
        "    plt.subplot(1, 2, 2)\n",
        "    plt.plot(epochs, val_accuracy_values, color=color, linestyle=\"dashed\", label=prefix + \" Validation Accuracy\")\n",
        "    plt.title(\"Training and Validation Accuracy\")\n",
        "    plt.xlabel(\"Epochs\")\n",
        "    plt.ylabel(\"Accuracy\")\n",
        "    plt.legend(framealpha=0.5)\n",
        "    plt.grid()\n",
        "\n",
        "    plt.show()\n"
      ]
    },
    {
      "cell_type": "code",
      "execution_count": null,
      "metadata": {
        "id": "EPO6BKToHW_q",
        "colab": {
          "base_uri": "https://localhost:8080/",
          "height": 505
        },
        "outputId": "451f0d49-f2be-4a63-dfd1-4d3f05442933"
      },
      "outputs": [
        {
          "output_type": "display_data",
          "data": {
            "text/plain": [
              "<Figure size 1200x600 with 0 Axes>"
            ]
          },
          "metadata": {}
        },
        {
          "output_type": "display_data",
          "data": {
            "text/plain": [
              "<Figure size 1200x500 with 2 Axes>"
            ],
            "image/png": "[encoded data removed]"
          },
          "metadata": {}
        }
      ],
      "source": [
        "# Using the plotting function\n",
        "plt.figure(figsize=(12, 6))\n",
        "plot_history(hist_a, color='blue', prefix=\"Small model\")"
      ]
    },
    {
      "cell_type": "markdown",
      "metadata": {
        "id": "2KOazn4UHW_r"
      },
      "source": [
        "### Part 4: Add Dropout Regularization\n",
        "Objective: Experiment with dropout layers in the model.\n",
        "\n",
        "**Instructions:**\n",
        "1. Add another hidden layer with 8 units\n",
        "1. Add dropout layers after each hidden layer with a dropout rate of 0.3.\n",
        "1. Compile the model.\n",
        "1. Train the model and observe the changes in accuracy.\n",
        "\n",
        "Complete the code below:"
      ]
    },
    {
      "cell_type": "code",
      "execution_count": null,
      "metadata": {
        "id": "5dSj5KXAHW_r"
      },
      "outputs": [],
      "source": []
    },
    {
      "cell_type": "code",
      "execution_count": null,
      "metadata": {
        "id": "C5L6oQFFHW_r",
        "colab": {
          "base_uri": "https://localhost:8080/",
          "height": 1000
        },
        "outputId": "fb50da66-81ec-44e0-a907-c4ccb48fe278"
      },
      "outputs": [
        {
          "output_type": "stream",
          "name": "stdout",
          "text": [
            "Epoch 1/20\n",
            "\u001b[1m49/49\u001b[0m \u001b[32m━━━━━━━━━━━━━━━━━━━━\u001b[0m\u001b[37m\u001b[0m \u001b[1m9s\u001b[0m 160ms/step - accuracy: 0.5998 - loss: 0.6612 - val_accuracy: 0.8536 - val_loss: 0.4984\n",
            "Epoch 2/20\n",
            "\u001b[1m49/49\u001b[0m \u001b[32m━━━━━━━━━━━━━━━━━━━━\u001b[0m\u001b[37m\u001b[0m \u001b[1m2s\u001b[0m 38ms/step - accuracy: 0.7914 - loss: 0.4877 - val_accuracy: 0.8808 - val_loss: 0.3642\n",
            "Epoch 3/20\n",
            "\u001b[1m49/49\u001b[0m \u001b[32m━━━━━━━━━━━━━━━━━━━━\u001b[0m\u001b[37m\u001b[0m \u001b[1m3s\u001b[0m 39ms/step - accuracy: 0.8497 - loss: 0.3746 - val_accuracy: 0.8858 - val_loss: 0.3068\n",
            "Epoch 4/20\n",
            "\u001b[1m49/49\u001b[0m \u001b[32m━━━━━━━━━━━━━━━━━━━━\u001b[0m\u001b[37m\u001b[0m \u001b[1m3s\u001b[0m 42ms/step - accuracy: 0.8888 - loss: 0.3117 - val_accuracy: 0.8874 - val_loss: 0.2819\n",
            "Epoch 5/20\n",
            "\u001b[1m49/49\u001b[0m \u001b[32m━━━━━━━━━━━━━━━━━━━━\u001b[0m\u001b[37m\u001b[0m \u001b[1m4s\u001b[0m 62ms/step - accuracy: 0.9087 - loss: 0.2644 - val_accuracy: 0.8885 - val_loss: 0.2763\n",
            "Epoch 6/20\n",
            "\u001b[1m49/49\u001b[0m \u001b[32m━━━━━━━━━━━━━━━━━━━━\u001b[0m\u001b[37m\u001b[0m \u001b[1m4s\u001b[0m 40ms/step - accuracy: 0.9260 - loss: 0.2212 - val_accuracy: 0.8852 - val_loss: 0.2785\n",
            "Epoch 7/20\n",
            "\u001b[1m49/49\u001b[0m \u001b[32m━━━━━━━━━━━━━━━━━━━━\u001b[0m\u001b[37m\u001b[0m \u001b[1m2s\u001b[0m 37ms/step - accuracy: 0.9320 - loss: 0.2022 - val_accuracy: 0.8849 - val_loss: 0.2923\n",
            "Epoch 8/20\n",
            "\u001b[1m49/49\u001b[0m \u001b[32m━━━━━━━━━━━━━━━━━━━━\u001b[0m\u001b[37m\u001b[0m \u001b[1m2s\u001b[0m 36ms/step - accuracy: 0.9424 - loss: 0.1771 - val_accuracy: 0.8849 - val_loss: 0.2952\n",
            "Epoch 9/20\n",
            "\u001b[1m49/49\u001b[0m \u001b[32m━━━━━━━━━━━━━━━━━━━━\u001b[0m\u001b[37m\u001b[0m \u001b[1m2s\u001b[0m 36ms/step - accuracy: 0.9494 - loss: 0.1569 - val_accuracy: 0.8808 - val_loss: 0.3118\n",
            "Epoch 10/20\n",
            "\u001b[1m49/49\u001b[0m \u001b[32m━━━━━━━━━━━━━━━━━━━━\u001b[0m\u001b[37m\u001b[0m \u001b[1m3s\u001b[0m 59ms/step - accuracy: 0.9532 - loss: 0.1438 - val_accuracy: 0.8784 - val_loss: 0.3283\n",
            "Epoch 11/20\n",
            "\u001b[1m49/49\u001b[0m \u001b[32m━━━━━━━━━━━━━━━━━━━━\u001b[0m\u001b[37m\u001b[0m \u001b[1m2s\u001b[0m 36ms/step - accuracy: 0.9603 - loss: 0.1263 - val_accuracy: 0.8793 - val_loss: 0.3437\n",
            "Epoch 12/20\n",
            "\u001b[1m49/49\u001b[0m \u001b[32m━━━━━━━━━━━━━━━━━━━━\u001b[0m\u001b[37m\u001b[0m \u001b[1m2s\u001b[0m 37ms/step - accuracy: 0.9650 - loss: 0.1134 - val_accuracy: 0.8779 - val_loss: 0.3612\n",
            "Epoch 13/20\n",
            "\u001b[1m49/49\u001b[0m \u001b[32m━━━━━━━━━━━━━━━━━━━━\u001b[0m\u001b[37m\u001b[0m \u001b[1m2s\u001b[0m 40ms/step - accuracy: 0.9654 - loss: 0.1059 - val_accuracy: 0.8761 - val_loss: 0.3753\n",
            "Epoch 14/20\n",
            "\u001b[1m49/49\u001b[0m \u001b[32m━━━━━━━━━━━━━━━━━━━━\u001b[0m\u001b[37m\u001b[0m \u001b[1m2s\u001b[0m 36ms/step - accuracy: 0.9673 - loss: 0.0964 - val_accuracy: 0.8751 - val_loss: 0.4058\n",
            "Epoch 15/20\n",
            "\u001b[1m49/49\u001b[0m \u001b[32m━━━━━━━━━━━━━━━━━━━━\u001b[0m\u001b[37m\u001b[0m \u001b[1m3s\u001b[0m 51ms/step - accuracy: 0.9721 - loss: 0.0863 - val_accuracy: 0.8732 - val_loss: 0.4245\n",
            "Epoch 16/20\n",
            "\u001b[1m49/49\u001b[0m \u001b[32m━━━━━━━━━━━━━━━━━━━━\u001b[0m\u001b[37m\u001b[0m \u001b[1m2s\u001b[0m 48ms/step - accuracy: 0.9711 - loss: 0.0823 - val_accuracy: 0.8730 - val_loss: 0.4365\n",
            "Epoch 17/20\n",
            "\u001b[1m49/49\u001b[0m \u001b[32m━━━━━━━━━━━━━━━━━━━━\u001b[0m\u001b[37m\u001b[0m \u001b[1m2s\u001b[0m 36ms/step - accuracy: 0.9744 - loss: 0.0768 - val_accuracy: 0.8743 - val_loss: 0.4520\n",
            "Epoch 18/20\n",
            "\u001b[1m49/49\u001b[0m \u001b[32m━━━━━━━━━━━━━━━━━━━━\u001b[0m\u001b[37m\u001b[0m \u001b[1m3s\u001b[0m 41ms/step - accuracy: 0.9752 - loss: 0.0712 - val_accuracy: 0.8720 - val_loss: 0.4749\n",
            "Epoch 19/20\n",
            "\u001b[1m49/49\u001b[0m \u001b[32m━━━━━━━━━━━━━━━━━━━━\u001b[0m\u001b[37m\u001b[0m \u001b[1m2s\u001b[0m 37ms/step - accuracy: 0.9771 - loss: 0.0658 - val_accuracy: 0.8720 - val_loss: 0.5030\n",
            "Epoch 20/20\n",
            "\u001b[1m49/49\u001b[0m \u001b[32m━━━━━━━━━━━━━━━━━━━━\u001b[0m\u001b[37m\u001b[0m \u001b[1m2s\u001b[0m 35ms/step - accuracy: 0.9768 - loss: 0.0638 - val_accuracy: 0.8728 - val_loss: 0.5274\n"
          ]
        },
        {
          "output_type": "display_data",
          "data": {
            "text/plain": [
              "<Figure size 1200x600 with 0 Axes>"
            ]
          },
          "metadata": {}
        },
        {
          "output_type": "display_data",
          "data": {
            "text/plain": [
              "<Figure size 1200x500 with 2 Axes>"
            ],
            "image/png": "[encoded data removed]"
          },
          "metadata": {}
        }
      ],
      "source": [
        "from keras import models, layers, optimizers\n",
        "\n",
        "# Build the model with dropout\n",
        "drp_model = models.Sequential()\n",
        "\n",
        "# Input layer + First hidden layer with 8 units and ReLU activation\n",
        "drp_model.add(layers.Dense(8, activation='relu', input_shape=(10000,)))\n",
        "\n",
        "# Dropout layer with 30% dropout rate\n",
        "drp_model.add(layers.Dropout(0.3))\n",
        "\n",
        "# Second hidden layer with 8 units and ReLU activation\n",
        "drp_model.add(layers.Dense(8, activation='relu'))\n",
        "\n",
        "# Dropout layer with 30% dropout rate\n",
        "drp_model.add(layers.Dropout(0.3))\n",
        "\n",
        "# Output layer with 1 neuron (since it's a binary classification task)\n",
        "drp_model.add(layers.Dense(1, activation='sigmoid'))\n",
        "\n",
        "# Compile the model\n",
        "drp_model.compile(optimizer='adam', loss='binary_crossentropy', metrics=['accuracy'])\n",
        "\n",
        "# Train the model\n",
        "drp_history = drp_model.fit(x_train, y_train, epochs=20, batch_size=512, validation_data=(x_test, y_test))\n",
        "\n",
        "# Plot training history\n",
        "import matplotlib.pyplot as plt\n",
        "\n",
        "plt.figure(figsize=(12, 6))\n",
        "plot_history(drp_history, color='red', prefix=\"Dropout 0.3\")\n"
      ]
    },
    {
      "cell_type": "markdown",
      "metadata": {
        "id": "GtGe8oA5HW_r"
      },
      "source": [
        "### Part 5: Test Different Dropout Rates\n",
        "Objective: Compare the model's performance with varying dropout rates.\n",
        "\n",
        "**Instructions:**\n",
        "1. Write a loop to create and train models with dropout rates of `[0, 0.2, 0.3, 0.4, 0.5]`.\n",
        "2. For each model, record the history to plot it later\n",
        "\n",
        "\n",
        "Complete the code below:"
      ]
    },
    {
      "cell_type": "code",
      "execution_count": null,
      "metadata": {
        "id": "O3zuv5AQHW_r",
        "colab": {
          "base_uri": "https://localhost:8080/"
        },
        "outputId": "6f1c78a3-ccc0-4f9f-dce2-3abcff318b2c"
      },
      "outputs": [
        {
          "output_type": "stream",
          "name": "stdout",
          "text": [
            "Training model with dropout rate: 0\n",
            "Epoch 1/20\n",
            "\u001b[1m49/49\u001b[0m \u001b[32m━━━━━━━━━━━━━━━━━━━━\u001b[0m\u001b[37m\u001b[0m \u001b[1m6s\u001b[0m 93ms/step - accuracy: 0.6986 - loss: 0.6161 - val_accuracy: 0.8655 - val_loss: 0.3876\n",
            "Epoch 2/20\n",
            "\u001b[1m49/49\u001b[0m \u001b[32m━━━━━━━━━━━━━━━━━━━━\u001b[0m\u001b[37m\u001b[0m \u001b[1m2s\u001b[0m 36ms/step - accuracy: 0.8962 - loss: 0.3172 - val_accuracy: 0.8860 - val_loss: 0.2957\n",
            "Epoch 3/20\n",
            "\u001b[1m49/49\u001b[0m \u001b[32m━━━━━━━━━━━━━━━━━━━━\u001b[0m\u001b[37m\u001b[0m \u001b[1m3s\u001b[0m 55ms/step - accuracy: 0.9266 - loss: 0.2141 - val_accuracy: 0.8856 - val_loss: 0.2893\n",
            "Epoch 4/20\n",
            "\u001b[1m49/49\u001b[0m \u001b[32m━━━━━━━━━━━━━━━━━━━━\u001b[0m\u001b[37m\u001b[0m \u001b[1m2s\u001b[0m 47ms/step - accuracy: 0.9427 - loss: 0.1684 - val_accuracy: 0.8834 - val_loss: 0.2923\n",
            "Epoch 5/20\n",
            "\u001b[1m49/49\u001b[0m \u001b[32m━━━━━━━━━━━━━━━━━━━━\u001b[0m\u001b[37m\u001b[0m \u001b[1m2s\u001b[0m 35ms/step - accuracy: 0.9560 - loss: 0.1373 - val_accuracy: 0.8807 - val_loss: 0.3088\n",
            "Epoch 6/20\n",
            "\u001b[1m49/49\u001b[0m \u001b[32m━━━━━━━━━━━━━━━━━━━━\u001b[0m\u001b[37m\u001b[0m \u001b[1m2s\u001b[0m 35ms/step - accuracy: 0.9628 - loss: 0.1174 - val_accuracy: 0.8765 - val_loss: 0.3321\n",
            "Epoch 7/20\n",
            "\u001b[1m49/49\u001b[0m \u001b[32m━━━━━━━━━━━━━━━━━━━━\u001b[0m\u001b[37m\u001b[0m \u001b[1m2s\u001b[0m 34ms/step - accuracy: 0.9719 - loss: 0.0968 - val_accuracy: 0.8728 - val_loss: 0.3554\n",
            "Epoch 8/20\n",
            "\u001b[1m49/49\u001b[0m \u001b[32m━━━━━━━━━━━━━━━━━━━━\u001b[0m\u001b[37m\u001b[0m \u001b[1m3s\u001b[0m 35ms/step - accuracy: 0.9773 - loss: 0.0835 - val_accuracy: 0.8690 - val_loss: 0.3810\n",
            "Epoch 9/20\n",
            "\u001b[1m49/49\u001b[0m \u001b[32m━━━━━━━━━━━━━━━━━━━━\u001b[0m\u001b[37m\u001b[0m \u001b[1m3s\u001b[0m 54ms/step - accuracy: 0.9827 - loss: 0.0709 - val_accuracy: 0.8662 - val_loss: 0.4090\n",
            "Epoch 10/20\n",
            "\u001b[1m49/49\u001b[0m \u001b[32m━━━━━━━━━━━━━━━━━━━━\u001b[0m\u001b[37m\u001b[0m \u001b[1m4s\u001b[0m 35ms/step - accuracy: 0.9857 - loss: 0.0621 - val_accuracy: 0.8649 - val_loss: 0.4401\n",
            "Epoch 11/20\n",
            "\u001b[1m49/49\u001b[0m \u001b[32m━━━━━━━━━━━━━━━━━━━━\u001b[0m\u001b[37m\u001b[0m \u001b[1m3s\u001b[0m 36ms/step - accuracy: 0.9899 - loss: 0.0520 - val_accuracy: 0.8611 - val_loss: 0.4702\n",
            "Epoch 12/20\n",
            "\u001b[1m49/49\u001b[0m \u001b[32m━━━━━━━━━━━━━━━━━━━━\u001b[0m\u001b[37m\u001b[0m \u001b[1m4s\u001b[0m 56ms/step - accuracy: 0.9923 - loss: 0.0442 - val_accuracy: 0.8582 - val_loss: 0.5037\n",
            "Epoch 13/20\n",
            "\u001b[1m49/49\u001b[0m \u001b[32m━━━━━━━━━━━━━━━━━━━━\u001b[0m\u001b[37m\u001b[0m \u001b[1m4s\u001b[0m 36ms/step - accuracy: 0.9935 - loss: 0.0374 - val_accuracy: 0.8570 - val_loss: 0.5396\n",
            "Epoch 14/20\n",
            "\u001b[1m49/49\u001b[0m \u001b[32m━━━━━━━━━━━━━━━━━━━━\u001b[0m\u001b[37m\u001b[0m \u001b[1m3s\u001b[0m 35ms/step - accuracy: 0.9957 - loss: 0.0297 - val_accuracy: 0.8551 - val_loss: 0.5707\n",
            "Epoch 15/20\n",
            "\u001b[1m49/49\u001b[0m \u001b[32m━━━━━━━━━━━━━━━━━━━━\u001b[0m\u001b[37m\u001b[0m \u001b[1m3s\u001b[0m 40ms/step - accuracy: 0.9967 - loss: 0.0258 - val_accuracy: 0.8532 - val_loss: 0.6078\n",
            "Epoch 16/20\n",
            "\u001b[1m49/49\u001b[0m \u001b[32m━━━━━━━━━━━━━━━━━━━━\u001b[0m\u001b[37m\u001b[0m \u001b[1m2s\u001b[0m 35ms/step - accuracy: 0.9979 - loss: 0.0217 - val_accuracy: 0.8526 - val_loss: 0.6390\n",
            "Epoch 17/20\n",
            "\u001b[1m49/49\u001b[0m \u001b[32m━━━━━━━━━━━━━━━━━━━━\u001b[0m\u001b[37m\u001b[0m \u001b[1m3s\u001b[0m 58ms/step - accuracy: 0.9983 - loss: 0.0194 - val_accuracy: 0.8521 - val_loss: 0.6732\n",
            "Epoch 18/20\n",
            "\u001b[1m49/49\u001b[0m \u001b[32m━━━━━━━━━━━━━━━━━━━━\u001b[0m\u001b[37m\u001b[0m \u001b[1m4s\u001b[0m 35ms/step - accuracy: 0.9993 - loss: 0.0145 - val_accuracy: 0.8513 - val_loss: 0.7056\n",
            "Epoch 19/20\n",
            "\u001b[1m49/49\u001b[0m \u001b[32m━━━━━━━━━━━━━━━━━━━━\u001b[0m\u001b[37m\u001b[0m \u001b[1m3s\u001b[0m 41ms/step - accuracy: 0.9995 - loss: 0.0125 - val_accuracy: 0.8506 - val_loss: 0.7390\n",
            "Epoch 20/20\n",
            "\u001b[1m49/49\u001b[0m \u001b[32m━━━━━━━━━━━━━━━━━━━━\u001b[0m\u001b[37m\u001b[0m \u001b[1m2s\u001b[0m 38ms/step - accuracy: 0.9994 - loss: 0.0106 - val_accuracy: 0.8498 - val_loss: 0.7699\n",
            "Training model with dropout rate: 0.2\n",
            "Epoch 1/20\n",
            "\u001b[1m49/49\u001b[0m \u001b[32m━━━━━━━━━━━━━━━━━━━━\u001b[0m\u001b[37m\u001b[0m \u001b[1m6s\u001b[0m 81ms/step - accuracy: 0.6199 - loss: 0.6405 - val_accuracy: 0.8568 - val_loss: 0.4699\n",
            "Epoch 2/20\n",
            "\u001b[1m49/49\u001b[0m \u001b[32m━━━━━━━━━━━━━━━━━━━━\u001b[0m\u001b[37m\u001b[0m \u001b[1m4s\u001b[0m 51ms/step - accuracy: 0.8246 - loss: 0.4534 - val_accuracy: 0.8770 - val_loss: 0.3580\n",
            "Epoch 3/20\n",
            "\u001b[1m49/49\u001b[0m \u001b[32m━━━━━━━━━━━━━━━━━━━━\u001b[0m\u001b[37m\u001b[0m \u001b[1m3s\u001b[0m 55ms/step - accuracy: 0.8726 - loss: 0.3533 - val_accuracy: 0.8870 - val_loss: 0.3112\n",
            "Epoch 4/20\n",
            "\u001b[1m49/49\u001b[0m \u001b[32m━━━━━━━━━━━━━━━━━━━━\u001b[0m\u001b[37m\u001b[0m \u001b[1m2s\u001b[0m 44ms/step - accuracy: 0.9041 - loss: 0.2916 - val_accuracy: 0.8866 - val_loss: 0.2928\n",
            "Epoch 5/20\n",
            "\u001b[1m49/49\u001b[0m \u001b[32m━━━━━━━━━━━━━━━━━━━━\u001b[0m\u001b[37m\u001b[0m \u001b[1m2s\u001b[0m 41ms/step - accuracy: 0.9259 - loss: 0.2415 - val_accuracy: 0.8844 - val_loss: 0.2932\n",
            "Epoch 6/20\n",
            "\u001b[1m49/49\u001b[0m \u001b[32m━━━━━━━━━━━━━━━━━━━━\u001b[0m\u001b[37m\u001b[0m \u001b[1m2s\u001b[0m 39ms/step - accuracy: 0.9369 - loss: 0.2106 - val_accuracy: 0.8854 - val_loss: 0.2922\n",
            "Epoch 7/20\n",
            "\u001b[1m49/49\u001b[0m \u001b[32m━━━━━━━━━━━━━━━━━━━━\u001b[0m\u001b[37m\u001b[0m \u001b[1m2s\u001b[0m 36ms/step - accuracy: 0.9503 - loss: 0.1798 - val_accuracy: 0.8820 - val_loss: 0.3072\n",
            "Epoch 8/20\n",
            "\u001b[1m49/49\u001b[0m \u001b[32m━━━━━━━━━━━━━━━━━━━━\u001b[0m\u001b[37m\u001b[0m \u001b[1m2s\u001b[0m 35ms/step - accuracy: 0.9582 - loss: 0.1502 - val_accuracy: 0.8787 - val_loss: 0.3297\n",
            "Epoch 9/20\n",
            "\u001b[1m49/49\u001b[0m \u001b[32m━━━━━━━━━━━━━━━━━━━━\u001b[0m\u001b[37m\u001b[0m \u001b[1m3s\u001b[0m 53ms/step - accuracy: 0.9637 - loss: 0.1266 - val_accuracy: 0.8788 - val_loss: 0.3398\n",
            "Epoch 10/20\n",
            "\u001b[1m49/49\u001b[0m \u001b[32m━━━━━━━━━━━━━━━━━━━━\u001b[0m\u001b[37m\u001b[0m \u001b[1m4s\u001b[0m 37ms/step - accuracy: 0.9701 - loss: 0.1078 - val_accuracy: 0.8764 - val_loss: 0.3672\n",
            "Epoch 11/20\n",
            "\u001b[1m49/49\u001b[0m \u001b[32m━━━━━━━━━━━━━━━━━━━━\u001b[0m\u001b[37m\u001b[0m \u001b[1m2s\u001b[0m 34ms/step - accuracy: 0.9757 - loss: 0.0931 - val_accuracy: 0.8740 - val_loss: 0.3797\n",
            "Epoch 12/20\n",
            "\u001b[1m49/49\u001b[0m \u001b[32m━━━━━━━━━━━━━━━━━━━━\u001b[0m\u001b[37m\u001b[0m \u001b[1m2s\u001b[0m 35ms/step - accuracy: 0.9753 - loss: 0.0878 - val_accuracy: 0.8728 - val_loss: 0.4359\n",
            "Epoch 13/20\n",
            "\u001b[1m49/49\u001b[0m \u001b[32m━━━━━━━━━━━━━━━━━━━━\u001b[0m\u001b[37m\u001b[0m \u001b[1m2s\u001b[0m 37ms/step - accuracy: 0.9815 - loss: 0.0732 - val_accuracy: 0.8701 - val_loss: 0.4643\n",
            "Epoch 14/20\n",
            "\u001b[1m49/49\u001b[0m \u001b[32m━━━━━━━━━━━━━━━━━━━━\u001b[0m\u001b[37m\u001b[0m \u001b[1m3s\u001b[0m 54ms/step - accuracy: 0.9845 - loss: 0.0641 - val_accuracy: 0.8708 - val_loss: 0.4871\n",
            "Epoch 15/20\n",
            "\u001b[1m49/49\u001b[0m \u001b[32m━━━━━━━━━━━━━━━━━━━━\u001b[0m\u001b[37m\u001b[0m \u001b[1m5s\u001b[0m 51ms/step - accuracy: 0.9842 - loss: 0.0597 - val_accuracy: 0.8698 - val_loss: 0.5057\n",
            "Epoch 16/20\n",
            "\u001b[1m49/49\u001b[0m \u001b[32m━━━━━━━━━━━━━━━━━━━━\u001b[0m\u001b[37m\u001b[0m \u001b[1m2s\u001b[0m 40ms/step - accuracy: 0.9887 - loss: 0.0484 - val_accuracy: 0.8689 - val_loss: 0.5438\n",
            "Epoch 17/20\n",
            "\u001b[1m49/49\u001b[0m \u001b[32m━━━━━━━━━━━━━━━━━━━━\u001b[0m\u001b[37m\u001b[0m \u001b[1m2s\u001b[0m 36ms/step - accuracy: 0.9875 - loss: 0.0494 - val_accuracy: 0.8685 - val_loss: 0.5718\n",
            "Epoch 18/20\n",
            "\u001b[1m49/49\u001b[0m \u001b[32m━━━━━━━━━━━━━━━━━━━━\u001b[0m\u001b[37m\u001b[0m \u001b[1m3s\u001b[0m 51ms/step - accuracy: 0.9885 - loss: 0.0448 - val_accuracy: 0.8682 - val_loss: 0.5833\n",
            "Epoch 19/20\n",
            "\u001b[1m49/49\u001b[0m \u001b[32m━━━━━━━━━━━━━━━━━━━━\u001b[0m\u001b[37m\u001b[0m \u001b[1m2s\u001b[0m 42ms/step - accuracy: 0.9899 - loss: 0.0414 - val_accuracy: 0.8670 - val_loss: 0.5952\n",
            "Epoch 20/20\n",
            "\u001b[1m49/49\u001b[0m \u001b[32m━━━━━━━━━━━━━━━━━━━━\u001b[0m\u001b[37m\u001b[0m \u001b[1m2s\u001b[0m 39ms/step - accuracy: 0.9910 - loss: 0.0371 - val_accuracy: 0.8674 - val_loss: 0.6130\n",
            "Training model with dropout rate: 0.3\n",
            "Epoch 1/20\n",
            "\u001b[1m49/49\u001b[0m \u001b[32m━━━━━━━━━━━━━━━━━━━━\u001b[0m\u001b[37m\u001b[0m \u001b[1m6s\u001b[0m 98ms/step - accuracy: 0.6112 - loss: 0.6522 - val_accuracy: 0.8539 - val_loss: 0.4676\n",
            "Epoch 2/20\n",
            "\u001b[1m49/49\u001b[0m \u001b[32m━━━━━━━━━━━━━━━━━━━━\u001b[0m\u001b[37m\u001b[0m \u001b[1m2s\u001b[0m 42ms/step - accuracy: 0.8020 - loss: 0.4652 - val_accuracy: 0.8822 - val_loss: 0.3492\n",
            "Epoch 3/20\n",
            "\u001b[1m49/49\u001b[0m \u001b[32m━━━━━━━━━━━━━━━━━━━━\u001b[0m\u001b[37m\u001b[0m \u001b[1m2s\u001b[0m 42ms/step - accuracy: 0.8654 - loss: 0.3580 - val_accuracy: 0.8871 - val_loss: 0.2952\n",
            "Epoch 4/20\n",
            "\u001b[1m49/49\u001b[0m \u001b[32m━━━━━━━━━━━━━━━━━━━━\u001b[0m\u001b[37m\u001b[0m \u001b[1m2s\u001b[0m 38ms/step - accuracy: 0.8992 - loss: 0.2867 - val_accuracy: 0.8887 - val_loss: 0.2762\n",
            "Epoch 5/20\n",
            "\u001b[1m49/49\u001b[0m \u001b[32m━━━━━━━━━━━━━━━━━━━━\u001b[0m\u001b[37m\u001b[0m \u001b[1m2s\u001b[0m 38ms/step - accuracy: 0.9158 - loss: 0.2427 - val_accuracy: 0.8878 - val_loss: 0.2768\n",
            "Epoch 6/20\n",
            "\u001b[1m49/49\u001b[0m \u001b[32m━━━━━━━━━━━━━━━━━━━━\u001b[0m\u001b[37m\u001b[0m \u001b[1m2s\u001b[0m 35ms/step - accuracy: 0.9331 - loss: 0.2061 - val_accuracy: 0.8854 - val_loss: 0.2821\n",
            "Epoch 7/20\n",
            "\u001b[1m49/49\u001b[0m \u001b[32m━━━━━━━━━━━━━━━━━━━━\u001b[0m\u001b[37m\u001b[0m \u001b[1m3s\u001b[0m 48ms/step - accuracy: 0.9408 - loss: 0.1791 - val_accuracy: 0.8832 - val_loss: 0.2917\n",
            "Epoch 8/20\n",
            "\u001b[1m49/49\u001b[0m \u001b[32m━━━━━━━━━━━━━━━━━━━━\u001b[0m\u001b[37m\u001b[0m \u001b[1m2s\u001b[0m 37ms/step - accuracy: 0.9457 - loss: 0.1647 - val_accuracy: 0.8808 - val_loss: 0.3161\n",
            "Epoch 9/20\n",
            "\u001b[1m49/49\u001b[0m \u001b[32m━━━━━━━━━━━━━━━━━━━━\u001b[0m\u001b[37m\u001b[0m \u001b[1m2s\u001b[0m 37ms/step - accuracy: 0.9521 - loss: 0.1443 - val_accuracy: 0.8787 - val_loss: 0.3286\n",
            "Epoch 10/20\n",
            "\u001b[1m49/49\u001b[0m \u001b[32m━━━━━━━━━━━━━━━━━━━━\u001b[0m\u001b[37m\u001b[0m \u001b[1m3s\u001b[0m 42ms/step - accuracy: 0.9578 - loss: 0.1299 - val_accuracy: 0.8782 - val_loss: 0.3463\n",
            "Epoch 11/20\n",
            "\u001b[1m49/49\u001b[0m \u001b[32m━━━━━━━━━━━━━━━━━━━━\u001b[0m\u001b[37m\u001b[0m \u001b[1m2s\u001b[0m 41ms/step - accuracy: 0.9606 - loss: 0.1214 - val_accuracy: 0.8770 - val_loss: 0.3554\n",
            "Epoch 12/20\n",
            "\u001b[1m49/49\u001b[0m \u001b[32m━━━━━━━━━━━━━━━━━━━━\u001b[0m\u001b[37m\u001b[0m \u001b[1m3s\u001b[0m 59ms/step - accuracy: 0.9646 - loss: 0.1090 - val_accuracy: 0.8754 - val_loss: 0.3674\n",
            "Epoch 13/20\n",
            "\u001b[1m49/49\u001b[0m \u001b[32m━━━━━━━━━━━━━━━━━━━━\u001b[0m\u001b[37m\u001b[0m \u001b[1m2s\u001b[0m 40ms/step - accuracy: 0.9678 - loss: 0.0988 - val_accuracy: 0.8750 - val_loss: 0.3891\n",
            "Epoch 14/20\n",
            "\u001b[1m49/49\u001b[0m \u001b[32m━━━━━━━━━━━━━━━━━━━━\u001b[0m\u001b[37m\u001b[0m \u001b[1m3s\u001b[0m 55ms/step - accuracy: 0.9669 - loss: 0.0949 - val_accuracy: 0.8720 - val_loss: 0.4240\n",
            "Epoch 15/20\n",
            "\u001b[1m49/49\u001b[0m \u001b[32m━━━━━━━━━━━━━━━━━━━━\u001b[0m\u001b[37m\u001b[0m \u001b[1m2s\u001b[0m 40ms/step - accuracy: 0.9714 - loss: 0.0834 - val_accuracy: 0.8741 - val_loss: 0.4396\n",
            "Epoch 16/20\n",
            "\u001b[1m49/49\u001b[0m \u001b[32m━━━━━━━━━━━━━━━━━━━━\u001b[0m\u001b[37m\u001b[0m \u001b[1m3s\u001b[0m 42ms/step - accuracy: 0.9718 - loss: 0.0785 - val_accuracy: 0.8728 - val_loss: 0.4633\n",
            "Epoch 17/20\n",
            "\u001b[1m49/49\u001b[0m \u001b[32m━━━━━━━━━━━━━━━━━━━━\u001b[0m\u001b[37m\u001b[0m \u001b[1m3s\u001b[0m 68ms/step - accuracy: 0.9743 - loss: 0.0721 - val_accuracy: 0.8722 - val_loss: 0.4783\n",
            "Epoch 18/20\n",
            "\u001b[1m49/49\u001b[0m \u001b[32m━━━━━━━━━━━━━━━━━━━━\u001b[0m\u001b[37m\u001b[0m \u001b[1m4s\u001b[0m 42ms/step - accuracy: 0.9747 - loss: 0.0689 - val_accuracy: 0.8718 - val_loss: 0.4914\n",
            "Epoch 19/20\n",
            "\u001b[1m49/49\u001b[0m \u001b[32m━━━━━━━━━━━━━━━━━━━━\u001b[0m\u001b[37m\u001b[0m \u001b[1m2s\u001b[0m 39ms/step - accuracy: 0.9758 - loss: 0.0651 - val_accuracy: 0.8718 - val_loss: 0.5338\n",
            "Epoch 20/20\n",
            "\u001b[1m49/49\u001b[0m \u001b[32m━━━━━━━━━━━━━━━━━━━━\u001b[0m\u001b[37m\u001b[0m \u001b[1m2s\u001b[0m 36ms/step - accuracy: 0.9751 - loss: 0.0615 - val_accuracy: 0.8701 - val_loss: 0.5437\n",
            "Training model with dropout rate: 0.4\n",
            "Epoch 1/20\n",
            "\u001b[1m49/49\u001b[0m \u001b[32m━━━━━━━━━━━━━━━━━━━━\u001b[0m\u001b[37m\u001b[0m \u001b[1m5s\u001b[0m 73ms/step - accuracy: 0.5753 - loss: 0.6706 - val_accuracy: 0.8444 - val_loss: 0.5240\n",
            "Epoch 2/20\n",
            "\u001b[1m49/49\u001b[0m \u001b[32m━━━━━━━━━━━━━━━━━━━━\u001b[0m\u001b[37m\u001b[0m \u001b[1m2s\u001b[0m 37ms/step - accuracy: 0.7536 - loss: 0.5317 - val_accuracy: 0.8760 - val_loss: 0.3950\n",
            "Epoch 3/20\n",
            "\u001b[1m49/49\u001b[0m \u001b[32m━━━━━━━━━━━━━━━━━━━━\u001b[0m\u001b[37m\u001b[0m \u001b[1m2s\u001b[0m 37ms/step - accuracy: 0.8099 - loss: 0.4382 - val_accuracy: 0.8844 - val_loss: 0.3323\n",
            "Epoch 4/20\n",
            "\u001b[1m49/49\u001b[0m \u001b[32m━━━━━━━━━━━━━━━━━━━━\u001b[0m\u001b[37m\u001b[0m \u001b[1m2s\u001b[0m 36ms/step - accuracy: 0.8532 - loss: 0.3763 - val_accuracy: 0.8857 - val_loss: 0.3085\n",
            "Epoch 5/20\n",
            "\u001b[1m49/49\u001b[0m \u001b[32m━━━━━━━━━━━━━━━━━━━━\u001b[0m\u001b[37m\u001b[0m \u001b[1m3s\u001b[0m 48ms/step - accuracy: 0.8740 - loss: 0.3384 - val_accuracy: 0.8866 - val_loss: 0.2906\n",
            "Epoch 6/20\n",
            "\u001b[1m49/49\u001b[0m \u001b[32m━━━━━━━━━━━━━━━━━━━━\u001b[0m\u001b[37m\u001b[0m \u001b[1m2s\u001b[0m 40ms/step - accuracy: 0.8911 - loss: 0.3006 - val_accuracy: 0.8863 - val_loss: 0.2816\n",
            "Epoch 7/20\n",
            "\u001b[1m 7/49\u001b[0m \u001b[32m━━\u001b[0m\u001b[37m━━━━━━━━━━━━━━━━━━\u001b[0m \u001b[1m1s\u001b[0m 26ms/step - accuracy: 0.8942 - loss: 0.2764"
          ]
        }
      ],
      "source": [
        "from keras import models, layers, optimizers\n",
        "import matplotlib.pyplot as plt\n",
        "\n",
        "# Different dropout rates to test\n",
        "rates = [0, 0.2, 0.3, 0.4, 0.5]\n",
        "hists = []\n",
        "\n",
        "for rate in rates:\n",
        "    print(f\"Training model with dropout rate: {rate}\")\n",
        "\n",
        "    # Build model\n",
        "    model = models.Sequential()\n",
        "    model.add(layers.Dense(8, activation='relu', input_shape=(10000,)))\n",
        "\n",
        "    # Apply dropout if rate > 0\n",
        "    if rate > 0:\n",
        "        model.add(layers.Dropout(rate))\n",
        "\n",
        "    model.add(layers.Dense(8, activation='relu'))\n",
        "\n",
        "    if rate > 0:\n",
        "        model.add(layers.Dropout(rate))\n",
        "\n",
        "    model.add(layers.Dense(1, activation='sigmoid'))  # Output layer\n",
        "\n",
        "    # Compile the model\n",
        "    model.compile(optimizer='adam', loss='binary_crossentropy', metrics=['accuracy'])\n",
        "\n",
        "    # Train the model\n",
        "    hist = model.fit(x_train, y_train, epochs=20, batch_size=512, validation_data=(x_test, y_test))\n",
        "\n",
        "    # Store the training history\n",
        "    hists.append(hist)\n",
        "\n",
        "# Plot training history for all models\n",
        "plt.figure(figsize=(12, 6))\n",
        "colors = ['blue', 'red', 'green', 'purple', 'orange']\n",
        "\n",
        "for i, hist in enumerate(hists):\n",
        "    plot_history(hist, colors[i], prefix=f\"Dropout {rates[i]}\")\n",
        "\n"
      ]
    },
    {
      "cell_type": "code",
      "execution_count": null,
      "metadata": {
        "id": "Z0pA0PypHW_r"
      },
      "outputs": [],
      "source": []
    },
    {
      "cell_type": "markdown",
      "metadata": {
        "id": "-P1mWx-EHW_r"
      },
      "source": [
        "### Part 6: Experiment with dropout location\n",
        "Objective: Compare the model's performance with dropout placed after different layers\n",
        "\n",
        "**Instructions:**\n",
        "Create 3 models with a single dropout \"layer\" placed:\n",
        "1. Before the first dense layer only\n",
        "2. After the first dense layer only\n",
        "3. After the second dense layer only\n",
        "\n",
        "\n",
        "\n",
        "Complete the code below:"
      ]
    },
    {
      "cell_type": "code",
      "execution_count": null,
      "metadata": {
        "id": "3Ii740FeHW_r"
      },
      "outputs": [],
      "source": [
        "from keras import models, layers, optimizers\n",
        "import matplotlib.pyplot as plt\n",
        "\n",
        "hists_b = []  # Store training histories\n",
        "rate = 0.4  # Dropout rate\n",
        "\n",
        "# 1. Dropout before the first dense layer\n",
        "model1 = models.Sequential()\n",
        "model1.add(layers.Dropout(rate, input_shape=(10000,)))  # Dropout first\n",
        "model1.add(layers.Dense(8, activation='relu'))\n",
        "model1.add(layers.Dense(8, activation='relu'))\n",
        "model1.add(layers.Dense(1, activation='sigmoid'))\n",
        "\n",
        "model1.compile(optimizer='adam', loss='binary_crossentropy', metrics=['accuracy'])\n",
        "hist1 = model1.fit(x_train, y_train, epochs=20, batch_size=512, validation_data=(x_test, y_test))\n",
        "hists_b.append(hist1)\n",
        "\n",
        "# 2. Dropout after the first dense layer\n",
        "model2 = models.Sequential()\n",
        "model2.add(layers.Dense(8, activation='relu', input_shape=(10000,)))\n",
        "model2.add(layers.Dropout(rate))  # Dropout after first dense layer\n",
        "model2.add(layers.Dense(8, activation='relu'))\n",
        "model2.add(layers.Dense(1, activation='sigmoid'))\n",
        "\n",
        "model2.compile(optimizer='adam', loss='binary_crossentropy', metrics=['accuracy'])\n",
        "hist2 = model2.fit(x_train, y_train, epochs=20, batch_size=512, validation_data=(x_test, y_test))\n",
        "hists_b.append(hist2)\n",
        "\n",
        "# 3. Dropout after the second dense layer\n",
        "model3 = models.Sequential()\n",
        "model3.add(layers.Dense(8, activation='relu', input_shape=(10000,)))\n",
        "model3.add(layers.Dense(8, activation='relu'))\n",
        "model3.add(layers.Dropout(rate))  # Dropout after second dense layer\n",
        "model3.add(layers.Dense(1, activation='sigmoid'))\n",
        "\n",
        "model3.compile(optimizer='adam', loss='binary_crossentropy', metrics=['accuracy'])\n",
        "hist3 = model3.fit(x_train, y_train, epochs=20, batch_size=512, validation_data=(x_test, y_test))\n",
        "hists_b.append(hist3)\n",
        "\n",
        "# Plot training history for all models\n",
        "plt.figure(figsize=(12, 6))\n",
        "prefixes = ['Dropout before 1st layer', 'Dropout after 1st layer', 'Dropout after 2nd layer']\n",
        "colors = ['blue', 'red', 'green']\n",
        "\n",
        "for i, hist in enumerate(hists_b):\n",
        "    plot_history(hist, colors[i], prefix=prefixes[i])\n"
      ]
    },
    {
      "cell_type": "code",
      "source": [],
      "metadata": {
        "id": "w_k93DCRNUrX"
      },
      "execution_count": null,
      "outputs": []
    }
  ],
  "metadata": {
    "kernelspec": {
      "display_name": "venv",
      "language": "python",
      "name": "python3"
    },
    "language_info": {
      "codemirror_mode": {
        "name": "ipython",
        "version": 3
      },
      "file_extension": ".py",
      "mimetype": "text/x-python",
      "name": "python",
      "nbconvert_exporter": "python",
      "pygments_lexer": "ipython3",
      "version": "3.12.3"
    },
    "colab": {
      "provenance": [],
      "toc_visible": true,
      "include_colab_link": true
    }
  },
  "nbformat": 4,
  "nbformat_minor": 0
}