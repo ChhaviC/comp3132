{
  "cells": [
    {
      "cell_type": "markdown",
      "metadata": {
        "id": "view-in-github",
        "colab_type": "text"
      },
      "source": [
        "<a href=\"https://colab.research.google.com/github/ChhaviC/comp3132/blob/main/LabWeek9.ipynb\" target=\"_parent\"><img src=\"https://colab.research.google.com/assets/colab-badge.svg\" alt=\"Open In Colab\"/></a>"
      ]
    },
    {
      "cell_type": "markdown",
      "metadata": {
        "id": "EvwsaaC-zho0"
      },
      "source": [
        "#LabWeek9: Prevent Overfitting - Part I"
      ]
    },
    {
      "cell_type": "markdown",
      "metadata": {
        "id": "kj231EE4lWug"
      },
      "source": [
        "## Importing Dataset: IMDB"
      ]
    },
    {
      "cell_type": "code",
      "execution_count": null,
      "metadata": {
        "collapsed": true,
        "id": "19gzQeyMlWug",
        "colab": {
          "base_uri": "https://localhost:8080/"
        },
        "outputId": "e73f9c6a-34b9-48c5-da78-891fdadb61bf"
      },
      "outputs": [
        {
          "output_type": "stream",
          "name": "stdout",
          "text": [
            "Downloading data from https://storage.googleapis.com/tensorflow/tf-keras-datasets/imdb.npz\n",
            "\u001b[1m17464789/17464789\u001b[0m \u001b[32m━━━━━━━━━━━━━━━━━━━━\u001b[0m\u001b[37m\u001b[0m \u001b[1m0s\u001b[0m 0us/step\n"
          ]
        }
      ],
      "source": [
        "from keras.datasets import imdb\n",
        "import numpy as np\n",
        "\n",
        "(train_data, train_labels), (test_data, test_labels) = imdb.load_data(num_words=10000)\n",
        "\n",
        "def vectorize_sequences(sequences, dimension=10000):\n",
        "    # Create an all-zero matrix of shape (len(sequences), dimension)\n",
        "    results = np.zeros((len(sequences), dimension))\n",
        "    for i, sequence in enumerate(sequences):\n",
        "        for j in sequence:\n",
        "            results[i, j] = 1.  # set specific indices of results[i] to 1s\n",
        "    return results\n",
        "\n",
        "# Our vectorized training data\n",
        "x_train = vectorize_sequences(train_data)\n",
        "# Our vectorized test data\n",
        "x_test = vectorize_sequences(test_data)\n",
        "# Our vectorized labels\n",
        "y_train = np.asarray(train_labels).astype('float32')\n",
        "y_test = np.asarray(test_labels).astype('float32')"
      ]
    },
    {
      "cell_type": "markdown",
      "metadata": {
        "id": "SL2hI5sppEyg"
      },
      "source": [
        "**Note:** We first encountered this dataset in `LabWeek5`. You can refer to that notebook for clarification on the text-to-numbers decoding process. Through vectorizing process we turn text data into vectors."
      ]
    },
    {
      "cell_type": "markdown",
      "metadata": {
        "id": "YZ83Fe0jnMyB"
      },
      "source": [
        "**Perform some sanity checks on the dataset:** For example, find the `shape` of the dataset and print samples to make sense of the data."
      ]
    },
    {
      "cell_type": "code",
      "execution_count": null,
      "metadata": {
        "id": "oE7R9euJnJ0x",
        "colab": {
          "base_uri": "https://localhost:8080/"
        },
        "outputId": "5931aac7-fdfb-472c-9e9b-8ae64e51482e"
      },
      "outputs": [
        {
          "output_type": "stream",
          "name": "stdout",
          "text": [
            "Training data shape: (25000, 10000)\n",
            "Test data shape: (25000, 10000)\n",
            "First review (as a sequence of word indices):\n",
            "[1, 14, 22, 16, 43, 530, 973, 1622, 1385, 65, 458, 4468, 66, 3941, 4, 173, 36, 256, 5, 25, 100, 43, 838, 112, 50, 670, 2, 9, 35, 480, 284, 5, 150, 4, 172, 112, 167, 2, 336, 385, 39, 4, 172, 4536, 1111, 17, 546, 38, 13, 447, 4, 192, 50, 16, 6, 147, 2025, 19, 14, 22, 4, 1920, 4613, 469, 4, 22, 71, 87, 12, 16, 43, 530, 38, 76, 15, 13, 1247, 4, 22, 17, 515, 17, 12, 16, 626, 18, 2, 5, 62, 386, 12, 8, 316, 8, 106, 5, 4, 2223, 5244, 16, 480, 66, 3785, 33, 4, 130, 12, 16, 38, 619, 5, 25, 124, 51, 36, 135, 48, 25, 1415, 33, 6, 22, 12, 215, 28, 77, 52, 5, 14, 407, 16, 82, 2, 8, 4, 107, 117, 5952, 15, 256, 4, 2, 7, 3766, 5, 723, 36, 71, 43, 530, 476, 26, 400, 317, 46, 7, 4, 2, 1029, 13, 104, 88, 4, 381, 15, 297, 98, 32, 2071, 56, 26, 141, 6, 194, 7486, 18, 4, 226, 22, 21, 134, 476, 26, 480, 5, 144, 30, 5535, 18, 51, 36, 28, 224, 92, 25, 104, 4, 226, 65, 16, 38, 1334, 88, 12, 16, 283, 5, 16, 4472, 113, 103, 32, 15, 16, 5345, 19, 178, 32]\n",
            "First review label: 1\n"
          ]
        }
      ],
      "source": [
        "#TODO: your code here\n",
        "# Check the shape of the training and test dataset\n",
        "print(f\"Training data shape: {x_train.shape}\")\n",
        "print(f\"Test data shape: {x_test.shape}\")\n",
        "\n",
        "# Print the first sample review (before vectorization)\n",
        "print(\"First review (as a sequence of word indices):\")\n",
        "print(train_data[0])\n",
        "\n",
        "# Print the first label (0 = negative, 1 = positive)\n",
        "print(f\"First review label: {train_labels[0]}\")\n"
      ]
    },
    {
      "cell_type": "markdown",
      "metadata": {
        "id": "d-WNlh6RlWug"
      },
      "source": [
        "## Fighting overfitting -  Reducing the network's size\n",
        "\n",
        "\n",
        "The general workflow to find an appropriate model size is to start with relatively few layers and\n",
        "parameters, and start increasing the size of the layers or adding new layers until you see diminishing returns with regard to the\n",
        "validation loss.\n",
        "\n"
      ]
    },
    {
      "cell_type": "markdown",
      "metadata": {
        "id": "acSrlchQqEkd"
      },
      "source": [
        "**Note:** we use `test set` as our `validation set`."
      ]
    },
    {
      "cell_type": "markdown",
      "metadata": {
        "id": "9s8d5jODsb3H"
      },
      "source": [
        "**Complete the following code for `original model` architecture**"
      ]
    },
    {
      "cell_type": "code",
      "execution_count": null,
      "metadata": {
        "collapsed": true,
        "id": "HViJio6llWuh"
      },
      "outputs": [],
      "source": [
        "from keras import models\n",
        "from keras import layers\n",
        "\n",
        "# Define the original model\n",
        "original_model = models.Sequential()\n",
        "\n",
        "# First hidden layer (16 units, ReLU activation)\n",
        "original_model.add(layers.Dense(16, activation='relu', input_shape=(10000,)))\n",
        "\n",
        "# Second hidden layer (16 units, ReLU activation)\n",
        "original_model.add(layers.Dense(16, activation='relu'))\n",
        "\n",
        "# Fix: Output layer (1 neuron, Sigmoid activation for binary classification)\n",
        "original_model.add(layers.Dense(1, activation='sigmoid'))\n",
        "\n",
        "# Compile the model\n",
        "original_model.compile(optimizer='rmsprop',\n",
        "                       loss='binary_crossentropy',\n",
        "                       metrics=['acc'])\n"
      ]
    },
    {
      "cell_type": "code",
      "execution_count": null,
      "metadata": {
        "colab": {
          "base_uri": "https://localhost:8080/",
          "height": 225
        },
        "id": "HKK_fTuSZZFn",
        "outputId": "1d276bb7-e661-4227-a4a6-4263f30baae6"
      },
      "outputs": [
        {
          "output_type": "display_data",
          "data": {
            "text/plain": [
              "\u001b[1mModel: \"sequential_2\"\u001b[0m\n"
            ],
            "text/html": [
              "<pre style=\"white-space:pre;overflow-x:auto;line-height:normal;font-family:Menlo,'DejaVu Sans Mono',consolas,'Courier New',monospace\"><span style=\"font-weight: bold\">Model: \"sequential_2\"</span>\n",
              "</pre>\n"
            ]
          },
          "metadata": {}
        },
        {
          "output_type": "display_data",
          "data": {
            "text/plain": [
              "┏━━━━━━━━━━━━━━━━━━━━━━━━━━━━━━━━━━━━━━┳━━━━━━━━━━━━━━━━━━━━━━━━━━━━━┳━━━━━━━━━━━━━━━━━┓\n",
              "┃\u001b[1m \u001b[0m\u001b[1mLayer (type)                        \u001b[0m\u001b[1m \u001b[0m┃\u001b[1m \u001b[0m\u001b[1mOutput Shape               \u001b[0m\u001b[1m \u001b[0m┃\u001b[1m \u001b[0m\u001b[1m        Param #\u001b[0m\u001b[1m \u001b[0m┃\n",
              "┡━━━━━━━━━━━━━━━━━━━━━━━━━━━━━━━━━━━━━━╇━━━━━━━━━━━━━━━━━━━━━━━━━━━━━╇━━━━━━━━━━━━━━━━━┩\n",
              "│ dense_4 (\u001b[38;5;33mDense\u001b[0m)                      │ (\u001b[38;5;45mNone\u001b[0m, \u001b[38;5;34m16\u001b[0m)                  │         \u001b[38;5;34m160,016\u001b[0m │\n",
              "├──────────────────────────────────────┼─────────────────────────────┼─────────────────┤\n",
              "│ dense_5 (\u001b[38;5;33mDense\u001b[0m)                      │ (\u001b[38;5;45mNone\u001b[0m, \u001b[38;5;34m16\u001b[0m)                  │             \u001b[38;5;34m272\u001b[0m │\n",
              "├──────────────────────────────────────┼─────────────────────────────┼─────────────────┤\n",
              "│ dense_6 (\u001b[38;5;33mDense\u001b[0m)                      │ (\u001b[38;5;45mNone\u001b[0m, \u001b[38;5;34m1\u001b[0m)                   │              \u001b[38;5;34m17\u001b[0m │\n",
              "└──────────────────────────────────────┴─────────────────────────────┴─────────────────┘\n"
            ],
            "text/html": [
              "<pre style=\"white-space:pre;overflow-x:auto;line-height:normal;font-family:Menlo,'DejaVu Sans Mono',consolas,'Courier New',monospace\">┏━━━━━━━━━━━━━━━━━━━━━━━━━━━━━━━━━━━━━━┳━━━━━━━━━━━━━━━━━━━━━━━━━━━━━┳━━━━━━━━━━━━━━━━━┓\n",
              "┃<span style=\"font-weight: bold\"> Layer (type)                         </span>┃<span style=\"font-weight: bold\"> Output Shape                </span>┃<span style=\"font-weight: bold\">         Param # </span>┃\n",
              "┡━━━━━━━━━━━━━━━━━━━━━━━━━━━━━━━━━━━━━━╇━━━━━━━━━━━━━━━━━━━━━━━━━━━━━╇━━━━━━━━━━━━━━━━━┩\n",
              "│ dense_4 (<span style=\"color: #0087ff; text-decoration-color: #0087ff\">Dense</span>)                      │ (<span style=\"color: #00d7ff; text-decoration-color: #00d7ff\">None</span>, <span style=\"color: #00af00; text-decoration-color: #00af00\">16</span>)                  │         <span style=\"color: #00af00; text-decoration-color: #00af00\">160,016</span> │\n",
              "├──────────────────────────────────────┼─────────────────────────────┼─────────────────┤\n",
              "│ dense_5 (<span style=\"color: #0087ff; text-decoration-color: #0087ff\">Dense</span>)                      │ (<span style=\"color: #00d7ff; text-decoration-color: #00d7ff\">None</span>, <span style=\"color: #00af00; text-decoration-color: #00af00\">16</span>)                  │             <span style=\"color: #00af00; text-decoration-color: #00af00\">272</span> │\n",
              "├──────────────────────────────────────┼─────────────────────────────┼─────────────────┤\n",
              "│ dense_6 (<span style=\"color: #0087ff; text-decoration-color: #0087ff\">Dense</span>)                      │ (<span style=\"color: #00d7ff; text-decoration-color: #00d7ff\">None</span>, <span style=\"color: #00af00; text-decoration-color: #00af00\">1</span>)                   │              <span style=\"color: #00af00; text-decoration-color: #00af00\">17</span> │\n",
              "└──────────────────────────────────────┴─────────────────────────────┴─────────────────┘\n",
              "</pre>\n"
            ]
          },
          "metadata": {}
        },
        {
          "output_type": "display_data",
          "data": {
            "text/plain": [
              "\u001b[1m Total params: \u001b[0m\u001b[38;5;34m160,305\u001b[0m (626.19 KB)\n"
            ],
            "text/html": [
              "<pre style=\"white-space:pre;overflow-x:auto;line-height:normal;font-family:Menlo,'DejaVu Sans Mono',consolas,'Courier New',monospace\"><span style=\"font-weight: bold\"> Total params: </span><span style=\"color: #00af00; text-decoration-color: #00af00\">160,305</span> (626.19 KB)\n",
              "</pre>\n"
            ]
          },
          "metadata": {}
        },
        {
          "output_type": "display_data",
          "data": {
            "text/plain": [
              "\u001b[1m Trainable params: \u001b[0m\u001b[38;5;34m160,305\u001b[0m (626.19 KB)\n"
            ],
            "text/html": [
              "<pre style=\"white-space:pre;overflow-x:auto;line-height:normal;font-family:Menlo,'DejaVu Sans Mono',consolas,'Courier New',monospace\"><span style=\"font-weight: bold\"> Trainable params: </span><span style=\"color: #00af00; text-decoration-color: #00af00\">160,305</span> (626.19 KB)\n",
              "</pre>\n"
            ]
          },
          "metadata": {}
        },
        {
          "output_type": "display_data",
          "data": {
            "text/plain": [
              "\u001b[1m Non-trainable params: \u001b[0m\u001b[38;5;34m0\u001b[0m (0.00 B)\n"
            ],
            "text/html": [
              "<pre style=\"white-space:pre;overflow-x:auto;line-height:normal;font-family:Menlo,'DejaVu Sans Mono',consolas,'Courier New',monospace\"><span style=\"font-weight: bold\"> Non-trainable params: </span><span style=\"color: #00af00; text-decoration-color: #00af00\">0</span> (0.00 B)\n",
              "</pre>\n"
            ]
          },
          "metadata": {}
        }
      ],
      "source": [
        "original_model.summary()"
      ]
    },
    {
      "cell_type": "markdown",
      "metadata": {
        "id": "jLrhrdetlWuh"
      },
      "source": [
        "**Define another model with fewer parameters. 4 units in each hidden layer.**"
      ]
    },
    {
      "cell_type": "code",
      "execution_count": null,
      "metadata": {
        "collapsed": true,
        "id": "Mhz_k7f6lWuh"
      },
      "outputs": [],
      "source": [
        "smaller_model = models.Sequential()\n",
        "smaller_model.add(layers.Dense(4, activation='relu', input_shape=(10000,)))\n",
        "\n",
        "# Hidden layer (4 units)\n",
        "smaller_model.add(layers.Dense(4, activation='relu'))\n",
        "\n",
        "# Output layer (binary classification)\n",
        "smaller_model.add(layers.Dense(1, activation='sigmoid'))\n",
        "\n",
        "# Compile the smaller model\n",
        "smaller_model.compile(optimizer='rmsprop',\n",
        "                      loss='binary_crossentropy',\n",
        "                      metrics=['acc'])\n"
      ]
    },
    {
      "cell_type": "markdown",
      "metadata": {
        "id": "M07ol9R-lWuh"
      },
      "source": [
        "\n",
        "**Train (1) original_model and (2) smaller_model seperately for `epochs=20` and `batch_size=512`. Also pass `x_test` and `y_test` as `validation_data`.**"
      ]
    },
    {
      "cell_type": "code",
      "execution_count": null,
      "metadata": {
        "id": "5QB8d1iLtpkB",
        "colab": {
          "base_uri": "https://localhost:8080/"
        },
        "outputId": "df7773ce-7df6-4d1b-fc08-129de7975c47"
      },
      "outputs": [
        {
          "output_type": "stream",
          "name": "stdout",
          "text": [
            "Epoch 1/20\n",
            "\u001b[1m49/49\u001b[0m \u001b[32m━━━━━━━━━━━━━━━━━━━━\u001b[0m\u001b[37m\u001b[0m \u001b[1m6s\u001b[0m 105ms/step - acc: 0.7189 - loss: 0.5756 - val_acc: 0.8688 - val_loss: 0.3620\n",
            "Epoch 2/20\n",
            "\u001b[1m49/49\u001b[0m \u001b[32m━━━━━━━━━━━━━━━━━━━━\u001b[0m\u001b[37m\u001b[0m \u001b[1m3s\u001b[0m 55ms/step - acc: 0.9008 - loss: 0.2927 - val_acc: 0.8895 - val_loss: 0.2888\n",
            "Epoch 3/20\n",
            "\u001b[1m49/49\u001b[0m \u001b[32m━━━━━━━━━━━━━━━━━━━━\u001b[0m\u001b[37m\u001b[0m \u001b[1m4s\u001b[0m 37ms/step - acc: 0.9194 - loss: 0.2254 - val_acc: 0.8898 - val_loss: 0.2776\n",
            "Epoch 4/20\n",
            "\u001b[1m49/49\u001b[0m \u001b[32m━━━━━━━━━━━━━━━━━━━━\u001b[0m\u001b[37m\u001b[0m \u001b[1m2s\u001b[0m 35ms/step - acc: 0.9349 - loss: 0.1868 - val_acc: 0.8875 - val_loss: 0.2821\n",
            "Epoch 5/20\n",
            "\u001b[1m49/49\u001b[0m \u001b[32m━━━━━━━━━━━━━━━━━━━━\u001b[0m\u001b[37m\u001b[0m \u001b[1m2s\u001b[0m 36ms/step - acc: 0.9427 - loss: 0.1650 - val_acc: 0.8785 - val_loss: 0.3082\n",
            "Epoch 6/20\n",
            "\u001b[1m49/49\u001b[0m \u001b[32m━━━━━━━━━━━━━━━━━━━━\u001b[0m\u001b[37m\u001b[0m \u001b[1m3s\u001b[0m 53ms/step - acc: 0.9512 - loss: 0.1435 - val_acc: 0.8710 - val_loss: 0.3415\n",
            "Epoch 7/20\n",
            "\u001b[1m49/49\u001b[0m \u001b[32m━━━━━━━━━━━━━━━━━━━━\u001b[0m\u001b[37m\u001b[0m \u001b[1m4s\u001b[0m 36ms/step - acc: 0.9545 - loss: 0.1320 - val_acc: 0.8639 - val_loss: 0.3727\n",
            "Epoch 8/20\n",
            "\u001b[1m49/49\u001b[0m \u001b[32m━━━━━━━━━━━━━━━━━━━━\u001b[0m\u001b[37m\u001b[0m \u001b[1m3s\u001b[0m 36ms/step - acc: 0.9618 - loss: 0.1167 - val_acc: 0.8746 - val_loss: 0.3496\n",
            "Epoch 9/20\n",
            "\u001b[1m49/49\u001b[0m \u001b[32m━━━━━━━━━━━━━━━━━━━━\u001b[0m\u001b[37m\u001b[0m \u001b[1m2s\u001b[0m 36ms/step - acc: 0.9675 - loss: 0.1026 - val_acc: 0.8724 - val_loss: 0.3638\n",
            "Epoch 10/20\n",
            "\u001b[1m49/49\u001b[0m \u001b[32m━━━━━━━━━━━━━━━━━━━━\u001b[0m\u001b[37m\u001b[0m \u001b[1m2s\u001b[0m 36ms/step - acc: 0.9691 - loss: 0.0945 - val_acc: 0.8712 - val_loss: 0.3876\n",
            "Epoch 11/20\n",
            "\u001b[1m49/49\u001b[0m \u001b[32m━━━━━━━━━━━━━━━━━━━━\u001b[0m\u001b[37m\u001b[0m \u001b[1m3s\u001b[0m 61ms/step - acc: 0.9730 - loss: 0.0872 - val_acc: 0.8677 - val_loss: 0.4080\n",
            "Epoch 12/20\n",
            "\u001b[1m49/49\u001b[0m \u001b[32m━━━━━━━━━━━━━━━━━━━━\u001b[0m\u001b[37m\u001b[0m \u001b[1m2s\u001b[0m 37ms/step - acc: 0.9783 - loss: 0.0753 - val_acc: 0.8674 - val_loss: 0.4293\n",
            "Epoch 13/20\n",
            "\u001b[1m49/49\u001b[0m \u001b[32m━━━━━━━━━━━━━━━━━━━━\u001b[0m\u001b[37m\u001b[0m \u001b[1m2s\u001b[0m 35ms/step - acc: 0.9802 - loss: 0.0683 - val_acc: 0.8655 - val_loss: 0.4533\n",
            "Epoch 14/20\n",
            "\u001b[1m49/49\u001b[0m \u001b[32m━━━━━━━━━━━━━━━━━━━━\u001b[0m\u001b[37m\u001b[0m \u001b[1m2s\u001b[0m 36ms/step - acc: 0.9827 - loss: 0.0620 - val_acc: 0.8602 - val_loss: 0.4882\n",
            "Epoch 15/20\n",
            "\u001b[1m49/49\u001b[0m \u001b[32m━━━━━━━━━━━━━━━━━━━━\u001b[0m\u001b[37m\u001b[0m \u001b[1m3s\u001b[0m 37ms/step - acc: 0.9862 - loss: 0.0530 - val_acc: 0.8608 - val_loss: 0.5053\n",
            "Epoch 16/20\n",
            "\u001b[1m49/49\u001b[0m \u001b[32m━━━━━━━━━━━━━━━━━━━━\u001b[0m\u001b[37m\u001b[0m \u001b[1m3s\u001b[0m 53ms/step - acc: 0.9869 - loss: 0.0486 - val_acc: 0.8593 - val_loss: 0.5290\n",
            "Epoch 17/20\n",
            "\u001b[1m49/49\u001b[0m \u001b[32m━━━━━━━━━━━━━━━━━━━━\u001b[0m\u001b[37m\u001b[0m \u001b[1m2s\u001b[0m 43ms/step - acc: 0.9902 - loss: 0.0413 - val_acc: 0.8541 - val_loss: 0.5911\n",
            "Epoch 18/20\n",
            "\u001b[1m49/49\u001b[0m \u001b[32m━━━━━━━━━━━━━━━━━━━━\u001b[0m\u001b[37m\u001b[0m \u001b[1m2s\u001b[0m 36ms/step - acc: 0.9893 - loss: 0.0410 - val_acc: 0.8534 - val_loss: 0.6135\n",
            "Epoch 19/20\n",
            "\u001b[1m49/49\u001b[0m \u001b[32m━━━━━━━━━━━━━━━━━━━━\u001b[0m\u001b[37m\u001b[0m \u001b[1m2s\u001b[0m 36ms/step - acc: 0.9909 - loss: 0.0361 - val_acc: 0.8550 - val_loss: 0.6200\n",
            "Epoch 20/20\n",
            "\u001b[1m49/49\u001b[0m \u001b[32m━━━━━━━━━━━━━━━━━━━━\u001b[0m\u001b[37m\u001b[0m \u001b[1m2s\u001b[0m 35ms/step - acc: 0.9908 - loss: 0.0348 - val_acc: 0.8550 - val_loss: 0.6352\n",
            "Epoch 1/20\n",
            "\u001b[1m49/49\u001b[0m \u001b[32m━━━━━━━━━━━━━━━━━━━━\u001b[0m\u001b[37m\u001b[0m \u001b[1m5s\u001b[0m 88ms/step - acc: 0.7341 - loss: 0.5733 - val_acc: 0.8724 - val_loss: 0.3907\n",
            "Epoch 2/20\n",
            "\u001b[1m49/49\u001b[0m \u001b[32m━━━━━━━━━━━━━━━━━━━━\u001b[0m\u001b[37m\u001b[0m \u001b[1m3s\u001b[0m 36ms/step - acc: 0.9002 - loss: 0.3303 - val_acc: 0.8847 - val_loss: 0.3141\n",
            "Epoch 3/20\n",
            "\u001b[1m49/49\u001b[0m \u001b[32m━━━━━━━━━━━━━━━━━━━━\u001b[0m\u001b[37m\u001b[0m \u001b[1m2s\u001b[0m 35ms/step - acc: 0.9241 - loss: 0.2430 - val_acc: 0.8882 - val_loss: 0.2896\n",
            "Epoch 4/20\n",
            "\u001b[1m49/49\u001b[0m \u001b[32m━━━━━━━━━━━━━━━━━━━━\u001b[0m\u001b[37m\u001b[0m \u001b[1m2s\u001b[0m 34ms/step - acc: 0.9333 - loss: 0.2064 - val_acc: 0.8851 - val_loss: 0.2868\n",
            "Epoch 5/20\n",
            "\u001b[1m49/49\u001b[0m \u001b[32m━━━━━━━━━━━━━━━━━━━━\u001b[0m\u001b[37m\u001b[0m \u001b[1m3s\u001b[0m 57ms/step - acc: 0.9428 - loss: 0.1774 - val_acc: 0.8874 - val_loss: 0.2817\n",
            "Epoch 6/20\n",
            "\u001b[1m49/49\u001b[0m \u001b[32m━━━━━━━━━━━━━━━━━━━━\u001b[0m\u001b[37m\u001b[0m \u001b[1m2s\u001b[0m 34ms/step - acc: 0.9498 - loss: 0.1538 - val_acc: 0.8850 - val_loss: 0.2880\n",
            "Epoch 7/20\n",
            "\u001b[1m49/49\u001b[0m \u001b[32m━━━━━━━━━━━━━━━━━━━━\u001b[0m\u001b[37m\u001b[0m \u001b[1m2s\u001b[0m 33ms/step - acc: 0.9528 - loss: 0.1451 - val_acc: 0.8810 - val_loss: 0.3026\n",
            "Epoch 8/20\n",
            "\u001b[1m49/49\u001b[0m \u001b[32m━━━━━━━━━━━━━━━━━━━━\u001b[0m\u001b[37m\u001b[0m \u001b[1m2s\u001b[0m 34ms/step - acc: 0.9589 - loss: 0.1317 - val_acc: 0.8805 - val_loss: 0.3088\n",
            "Epoch 9/20\n",
            "\u001b[1m49/49\u001b[0m \u001b[32m━━━━━━━━━━━━━━━━━━━━\u001b[0m\u001b[37m\u001b[0m \u001b[1m3s\u001b[0m 34ms/step - acc: 0.9612 - loss: 0.1231 - val_acc: 0.8788 - val_loss: 0.3190\n",
            "Epoch 10/20\n",
            "\u001b[1m49/49\u001b[0m \u001b[32m━━━━━━━━━━━━━━━━━━━━\u001b[0m\u001b[37m\u001b[0m \u001b[1m3s\u001b[0m 48ms/step - acc: 0.9675 - loss: 0.1107 - val_acc: 0.8741 - val_loss: 0.3371\n",
            "Epoch 11/20\n",
            "\u001b[1m49/49\u001b[0m \u001b[32m━━━━━━━━━━━━━━━━━━━━\u001b[0m\u001b[37m\u001b[0m \u001b[1m2s\u001b[0m 44ms/step - acc: 0.9726 - loss: 0.0999 - val_acc: 0.8745 - val_loss: 0.3460\n",
            "Epoch 12/20\n",
            "\u001b[1m49/49\u001b[0m \u001b[32m━━━━━━━━━━━━━━━━━━━━\u001b[0m\u001b[37m\u001b[0m \u001b[1m2s\u001b[0m 35ms/step - acc: 0.9723 - loss: 0.0952 - val_acc: 0.8726 - val_loss: 0.3585\n",
            "Epoch 13/20\n",
            "\u001b[1m49/49\u001b[0m \u001b[32m━━━━━━━━━━━━━━━━━━━━\u001b[0m\u001b[37m\u001b[0m \u001b[1m2s\u001b[0m 34ms/step - acc: 0.9759 - loss: 0.0860 - val_acc: 0.8690 - val_loss: 0.3778\n",
            "Epoch 14/20\n",
            "\u001b[1m49/49\u001b[0m \u001b[32m━━━━━━━━━━━━━━━━━━━━\u001b[0m\u001b[37m\u001b[0m \u001b[1m2s\u001b[0m 36ms/step - acc: 0.9775 - loss: 0.0821 - val_acc: 0.8675 - val_loss: 0.3992\n",
            "Epoch 15/20\n",
            "\u001b[1m49/49\u001b[0m \u001b[32m━━━━━━━━━━━━━━━━━━━━\u001b[0m\u001b[37m\u001b[0m \u001b[1m2s\u001b[0m 34ms/step - acc: 0.9785 - loss: 0.0769 - val_acc: 0.8683 - val_loss: 0.4060\n",
            "Epoch 16/20\n",
            "\u001b[1m49/49\u001b[0m \u001b[32m━━━━━━━━━━━━━━━━━━━━\u001b[0m\u001b[37m\u001b[0m \u001b[1m2s\u001b[0m 49ms/step - acc: 0.9806 - loss: 0.0720 - val_acc: 0.8662 - val_loss: 0.4222\n",
            "Epoch 17/20\n",
            "\u001b[1m49/49\u001b[0m \u001b[32m━━━━━━━━━━━━━━━━━━━━\u001b[0m\u001b[37m\u001b[0m \u001b[1m2s\u001b[0m 42ms/step - acc: 0.9828 - loss: 0.0679 - val_acc: 0.8634 - val_loss: 0.4421\n",
            "Epoch 18/20\n",
            "\u001b[1m49/49\u001b[0m \u001b[32m━━━━━━━━━━━━━━━━━━━━\u001b[0m\u001b[37m\u001b[0m \u001b[1m2s\u001b[0m 34ms/step - acc: 0.9853 - loss: 0.0622 - val_acc: 0.8628 - val_loss: 0.4687\n",
            "Epoch 19/20\n",
            "\u001b[1m49/49\u001b[0m \u001b[32m━━━━━━━━━━━━━━━━━━━━\u001b[0m\u001b[37m\u001b[0m \u001b[1m3s\u001b[0m 35ms/step - acc: 0.9864 - loss: 0.0567 - val_acc: 0.8615 - val_loss: 0.4756\n",
            "Epoch 20/20\n",
            "\u001b[1m49/49\u001b[0m \u001b[32m━━━━━━━━━━━━━━━━━━━━\u001b[0m\u001b[37m\u001b[0m \u001b[1m2s\u001b[0m 34ms/step - acc: 0.9886 - loss: 0.0546 - val_acc: 0.8596 - val_loss: 0.4937\n"
          ]
        }
      ],
      "source": [
        "#TODO: your code here for training original_model\n",
        "# Train the original model\n",
        "original_hist = original_model.fit(\n",
        "    x_train, y_train,\n",
        "    epochs=20,\n",
        "    batch_size=512,\n",
        "    validation_data=(x_test, y_test)\n",
        ")\n",
        "\n",
        "# Train the smaller model\n",
        "smaller_hist = smaller_model.fit(\n",
        "    x_train, y_train,\n",
        "    epochs=20,\n",
        "    batch_size=512,\n",
        "    validation_data=(x_test, y_test)\n",
        ")\n",
        "\n"
      ]
    },
    {
      "cell_type": "markdown",
      "metadata": {
        "id": "vocCEG0CZZFo"
      },
      "source": [
        "**`orginal_hist` and `smaller_hist` are `objects` returned after training the models.**\n",
        "- We can get access to the `history` attribute of `origial_hist` object through dot operator.\n",
        "- TODO: The history attribute is a data structure of type `dictionary` containing data about everything that happened during training. Show the `keys` of this `dictionary`."
      ]
    },
    {
      "cell_type": "code",
      "execution_count": 12,
      "metadata": {
        "id": "rsWgcyV2ZZFo",
        "colab": {
          "base_uri": "https://localhost:8080/"
        },
        "outputId": "3cb940d8-332b-487a-870b-ef265be62203"
      },
      "outputs": [
        {
          "output_type": "stream",
          "name": "stdout",
          "text": [
            "{'acc': [0.8071200251579285, 0.8985199928283691, 0.9182400107383728, 0.9316800236701965, 0.9415599703788757, 0.9473599791526794, 0.9522799849510193, 0.9585999846458435, 0.962119996547699, 0.9654800295829773, 0.9699199795722961, 0.9753599762916565, 0.975600004196167, 0.9792799949645996, 0.9823600053787231, 0.9833199977874756, 0.9880800247192383, 0.9871199727058411, 0.9902399778366089, 0.9899200201034546], 'loss': [0.48268646001815796, 0.28440552949905396, 0.22254523634910583, 0.19085648655891418, 0.16489794850349426, 0.1490325778722763, 0.13582544028759003, 0.1216941699385643, 0.11083556711673737, 0.10101671516895294, 0.09163208305835724, 0.08015311509370804, 0.07498688995838165, 0.06633912771940231, 0.06084146350622177, 0.05544660612940788, 0.045293066650629044, 0.04453730583190918, 0.038275666534900665, 0.03685474023222923], 'val_acc': [0.8688399791717529, 0.8894799947738647, 0.8898400068283081, 0.8874800205230713, 0.8785200119018555, 0.8710399866104126, 0.8638799786567688, 0.8746399879455566, 0.8723599910736084, 0.8712000250816345, 0.8677200078964233, 0.8673999905586243, 0.8655200004577637, 0.8601999878883362, 0.860759973526001, 0.859279990196228, 0.8541200160980225, 0.85343998670578, 0.854960024356842, 0.8550400137901306], 'val_loss': [0.36204421520233154, 0.28883591294288635, 0.2775883674621582, 0.28208303451538086, 0.30824780464172363, 0.3414682149887085, 0.37265172600746155, 0.3495720326900482, 0.36378151178359985, 0.38761451840400696, 0.40799832344055176, 0.4293465316295624, 0.4533126950263977, 0.4882067143917084, 0.5053381323814392, 0.5289837121963501, 0.5911192297935486, 0.61353600025177, 0.6200177669525146, 0.6352061629295349]}\n",
            "dict_keys(['acc', 'loss', 'val_acc', 'val_loss'])\n"
          ]
        }
      ],
      "source": [
        "print(original_hist.history)\n",
        "#TODO: print out the keys of the output dictionary\n",
        "#your code here\n",
        "# Print the history dictionary\n",
        "print(original_hist.history.keys())\n"
      ]
    },
    {
      "cell_type": "markdown",
      "metadata": {
        "id": "RYgKMNF8u9B_"
      },
      "source": [
        "**Plot `val_loss` vs. epochs for both models in one plot**"
      ]
    },
    {
      "cell_type": "code",
      "execution_count": 13,
      "metadata": {
        "id": "pmbSPySFvIkN",
        "colab": {
          "base_uri": "https://localhost:8080/",
          "height": 472
        },
        "outputId": "5ac89bf2-0fc2-429d-b78e-85b0a821d52c"
      },
      "outputs": [
        {
          "output_type": "display_data",
          "data": {
            "text/plain": [
              "<Figure size 640x480 with 1 Axes>"
            ],
            "image/png": "[encoded data removed]"
          },
          "metadata": {}
        }
      ],
      "source": [
        "from matplotlib import pyplot as plt\n",
        "#TODO: your code here\n",
        "\n",
        "epochs = range(1, 21)  # Since we trained for 20 epochs\n",
        "\n",
        "# Plot validation loss\n",
        "plt.plot(epochs, original_hist.history['val_loss'], 'b', label='Original Model Validation Loss')\n",
        "plt.plot(epochs, smaller_hist.history['val_loss'], 'r', label='Smaller Model Validation Loss')\n",
        "\n",
        "plt.title('Validation Loss vs. Epochs')\n",
        "plt.xlabel('Epochs')\n",
        "plt.ylabel('Validation Loss')\n",
        "plt.legend()\n",
        "\n",
        "plt.show()"
      ]
    },
    {
      "cell_type": "markdown",
      "metadata": {
        "id": "WTbdkLbQZZFp"
      },
      "source": [
        "**Plot training `loss` vs. epochs for both models in one plot**"
      ]
    },
    {
      "cell_type": "code",
      "execution_count": 14,
      "metadata": {
        "id": "V6-DtkpVZZFp",
        "colab": {
          "base_uri": "https://localhost:8080/",
          "height": 472
        },
        "outputId": "a2a50abb-3c56-4868-ad1d-45f65714b007"
      },
      "outputs": [
        {
          "output_type": "display_data",
          "data": {
            "text/plain": [
              "<Figure size 640x480 with 1 Axes>"
            ],
            "image/png": "[encoded data removed]"
          },
          "metadata": {}
        }
      ],
      "source": [
        "#TODO: your code\n",
        "# Plot training loss\n",
        "plt.plot(epochs, original_hist.history['loss'], 'b', label='Original Model Training Loss')\n",
        "plt.plot(epochs, smaller_hist.history['loss'], 'r', label='Smaller Model Training Loss')\n",
        "\n",
        "plt.title('Training Loss vs. Epochs')\n",
        "plt.xlabel('Epochs')\n",
        "plt.ylabel('Training Loss')\n",
        "plt.legend()\n",
        "\n",
        "plt.show()\n"
      ]
    },
    {
      "cell_type": "markdown",
      "metadata": {
        "id": "xLYftwtuvwCl"
      },
      "source": [
        "**Questions:** Which model overfits earlier? How can you see the size of the model on overfitting?"
      ]
    },
    {
      "cell_type": "markdown",
      "metadata": {
        "id": "BtM87A1fwju-"
      },
      "source": [
        "**Answer:** TODO"
      ]
    },
    {
      "cell_type": "markdown",
      "metadata": {
        "id": "TlS-jTVEw4EQ"
      },
      "source": [
        "**Now define a very large model (e.g., with 512 units in hidden layer) and compare the `loss` and `val_loss` of this big model and the `original model` and `smaller_model`.**"
      ]
    },
    {
      "cell_type": "code",
      "execution_count": 15,
      "metadata": {
        "id": "OrBI9LGpxe-7"
      },
      "outputs": [],
      "source": [
        "#your code here\n",
        "large_model = models.Sequential()\n",
        "large_model.add(layers.Dense(512, activation='relu', input_shape=(10000,)))\n",
        "\n",
        "# Hidden layer (512 units)\n",
        "large_model.add(layers.Dense(512, activation='relu'))\n",
        "\n",
        "# Output layer (Binary classification)\n",
        "large_model.add(layers.Dense(1, activation='sigmoid'))\n",
        "\n",
        "# Compile the large model\n",
        "large_model.compile(optimizer='rmsprop',\n",
        "                    loss='binary_crossentropy',\n",
        "                    metrics=['acc'])\n"
      ]
    },
    {
      "cell_type": "code",
      "source": [
        "large_hist = large_model.fit(\n",
        "    x_train, y_train,\n",
        "    epochs=20,\n",
        "    batch_size=512,\n",
        "    validation_data=(x_test, y_test)\n",
        ")\n"
      ],
      "metadata": {
        "colab": {
          "base_uri": "https://localhost:8080/"
        },
        "id": "-JWZ_GwUtuW6",
        "outputId": "dd4a5484-bff7-4fe0-9877-42975660c6b0"
      },
      "execution_count": 16,
      "outputs": [
        {
          "output_type": "stream",
          "name": "stdout",
          "text": [
            "Epoch 1/20\n",
            "\u001b[1m49/49\u001b[0m \u001b[32m━━━━━━━━━━━━━━━━━━━━\u001b[0m\u001b[37m\u001b[0m \u001b[1m25s\u001b[0m 475ms/step - acc: 0.6825 - loss: 0.5903 - val_acc: 0.8838 - val_loss: 0.3118\n",
            "Epoch 2/20\n",
            "\u001b[1m49/49\u001b[0m \u001b[32m━━━━━━━━━━━━━━━━━━━━\u001b[0m\u001b[37m\u001b[0m \u001b[1m35s\u001b[0m 359ms/step - acc: 0.8900 - loss: 0.2768 - val_acc: 0.8864 - val_loss: 0.2749\n",
            "Epoch 3/20\n",
            "\u001b[1m49/49\u001b[0m \u001b[32m━━━━━━━━━━━━━━━━━━━━\u001b[0m\u001b[37m\u001b[0m \u001b[1m20s\u001b[0m 342ms/step - acc: 0.9207 - loss: 0.2064 - val_acc: 0.8865 - val_loss: 0.2747\n",
            "Epoch 4/20\n",
            "\u001b[1m49/49\u001b[0m \u001b[32m━━━━━━━━━━━━━━━━━━━━\u001b[0m\u001b[37m\u001b[0m \u001b[1m16s\u001b[0m 325ms/step - acc: 0.9392 - loss: 0.1607 - val_acc: 0.8619 - val_loss: 0.3347\n",
            "Epoch 5/20\n",
            "\u001b[1m49/49\u001b[0m \u001b[32m━━━━━━━━━━━━━━━━━━━━\u001b[0m\u001b[37m\u001b[0m \u001b[1m16s\u001b[0m 323ms/step - acc: 0.9577 - loss: 0.1161 - val_acc: 0.8800 - val_loss: 0.3237\n",
            "Epoch 6/20\n",
            "\u001b[1m49/49\u001b[0m \u001b[32m━━━━━━━━━━━━━━━━━━━━\u001b[0m\u001b[37m\u001b[0m \u001b[1m17s\u001b[0m 350ms/step - acc: 0.9741 - loss: 0.0789 - val_acc: 0.8816 - val_loss: 0.3466\n",
            "Epoch 7/20\n",
            "\u001b[1m49/49\u001b[0m \u001b[32m━━━━━━━━━━━━━━━━━━━━\u001b[0m\u001b[37m\u001b[0m \u001b[1m19s\u001b[0m 327ms/step - acc: 0.9873 - loss: 0.0516 - val_acc: 0.8810 - val_loss: 0.3942\n",
            "Epoch 8/20\n",
            "\u001b[1m49/49\u001b[0m \u001b[32m━━━━━━━━━━━━━━━━━━━━\u001b[0m\u001b[37m\u001b[0m \u001b[1m26s\u001b[0m 434ms/step - acc: 0.9902 - loss: 0.0347 - val_acc: 0.8790 - val_loss: 0.4399\n",
            "Epoch 9/20\n",
            "\u001b[1m49/49\u001b[0m \u001b[32m━━━━━━━━━━━━━━━━━━━━\u001b[0m\u001b[37m\u001b[0m \u001b[1m36s\u001b[0m 328ms/step - acc: 0.9918 - loss: 0.0357 - val_acc: 0.8810 - val_loss: 0.4389\n",
            "Epoch 10/20\n",
            "\u001b[1m49/49\u001b[0m \u001b[32m━━━━━━━━━━━━━━━━━━━━\u001b[0m\u001b[37m\u001b[0m \u001b[1m21s\u001b[0m 335ms/step - acc: 0.9994 - loss: 0.0062 - val_acc: 0.8117 - val_loss: 0.7236\n",
            "Epoch 11/20\n",
            "\u001b[1m49/49\u001b[0m \u001b[32m━━━━━━━━━━━━━━━━━━━━\u001b[0m\u001b[37m\u001b[0m \u001b[1m26s\u001b[0m 448ms/step - acc: 0.9941 - loss: 0.0181 - val_acc: 0.8799 - val_loss: 0.5599\n",
            "Epoch 12/20\n",
            "\u001b[1m49/49\u001b[0m \u001b[32m━━━━━━━━━━━━━━━━━━━━\u001b[0m\u001b[37m\u001b[0m \u001b[1m35s\u001b[0m 333ms/step - acc: 0.9972 - loss: 0.0145 - val_acc: 0.8798 - val_loss: 0.4598\n",
            "Epoch 13/20\n",
            "\u001b[1m49/49\u001b[0m \u001b[32m━━━━━━━━━━━━━━━━━━━━\u001b[0m\u001b[37m\u001b[0m \u001b[1m27s\u001b[0m 477ms/step - acc: 1.0000 - loss: 0.0027 - val_acc: 0.8810 - val_loss: 0.6072\n",
            "Epoch 14/20\n",
            "\u001b[1m49/49\u001b[0m \u001b[32m━━━━━━━━━━━━━━━━━━━━\u001b[0m\u001b[37m\u001b[0m \u001b[1m39s\u001b[0m 427ms/step - acc: 1.0000 - loss: 8.6741e-04 - val_acc: 0.8798 - val_loss: 0.6798\n",
            "Epoch 15/20\n",
            "\u001b[1m49/49\u001b[0m \u001b[32m━━━━━━━━━━━━━━━━━━━━\u001b[0m\u001b[37m\u001b[0m \u001b[1m37s\u001b[0m 340ms/step - acc: 1.0000 - loss: 4.2961e-04 - val_acc: 0.8805 - val_loss: 0.7120\n",
            "Epoch 16/20\n",
            "\u001b[1m49/49\u001b[0m \u001b[32m━━━━━━━━━━━━━━━━━━━━\u001b[0m\u001b[37m\u001b[0m \u001b[1m25s\u001b[0m 439ms/step - acc: 1.0000 - loss: 2.5886e-04 - val_acc: 0.8805 - val_loss: 0.7519\n",
            "Epoch 17/20\n",
            "\u001b[1m49/49\u001b[0m \u001b[32m━━━━━━━━━━━━━━━━━━━━\u001b[0m\u001b[37m\u001b[0m \u001b[1m36s\u001b[0m 327ms/step - acc: 1.0000 - loss: 2.0221e-04 - val_acc: 0.8807 - val_loss: 0.7829\n",
            "Epoch 18/20\n",
            "\u001b[1m49/49\u001b[0m \u001b[32m━━━━━━━━━━━━━━━━━━━━\u001b[0m\u001b[37m\u001b[0m \u001b[1m23s\u001b[0m 385ms/step - acc: 1.0000 - loss: 1.6973e-04 - val_acc: 0.8804 - val_loss: 0.8002\n",
            "Epoch 19/20\n",
            "\u001b[1m49/49\u001b[0m \u001b[32m━━━━━━━━━━━━━━━━━━━━\u001b[0m\u001b[37m\u001b[0m \u001b[1m19s\u001b[0m 354ms/step - acc: 1.0000 - loss: 1.3426e-04 - val_acc: 0.8803 - val_loss: 0.8147\n",
            "Epoch 20/20\n",
            "\u001b[1m49/49\u001b[0m \u001b[32m━━━━━━━━━━━━━━━━━━━━\u001b[0m\u001b[37m\u001b[0m \u001b[1m21s\u001b[0m 360ms/step - acc: 1.0000 - loss: 1.0621e-04 - val_acc: 0.8807 - val_loss: 0.8298\n"
          ]
        }
      ]
    },
    {
      "cell_type": "markdown",
      "metadata": {
        "id": "BW0vJsK7xoIn"
      },
      "source": [
        "**Discuss the results**"
      ]
    },
    {
      "cell_type": "markdown",
      "metadata": {
        "id": "JnjkvgHZxsho"
      },
      "source": [
        "**Answer:** TODO"
      ]
    },
    {
      "cell_type": "markdown",
      "metadata": {
        "id": "feDoVK-ulWuj"
      },
      "source": [
        "## Fighting overfitting - Adding weight regularization\n",
        "\n",
        "\n",
        "A common way to mitigate overfitting is to put constraints on the complexity\n",
        "of a network by forcing its weights to only take small values. This is called\n",
        "\"weight regularization\", and it is done by adding to the loss function of the network a _cost_ associated with having large weights. This\n",
        "cost comes in two flavors:\n",
        "\n",
        "* L1 regularization, where the cost added is proportional to the _absolute value of the weights coefficients_ (i.e. to what is called the\n",
        "\"L1 norm\" of the weights).\n",
        "* L2 regularization, where the cost added is proportional to the _square of the value of the weights coefficients_ (i.e. to what is called\n",
        "the \"L2 norm\" of the weights). L2 regularization is also called _weight decay_ in the context of neural networks. Don't let the different\n",
        "name confuse you: weight decay is mathematically the exact same as L2 regularization.\n",
        "\n",
        "In Keras, weight regularization is added by passing _weight regularizer instances_ to layers as keyword arguments.\n",
        "\n",
        "\n",
        "**Complere the model below**"
      ]
    },
    {
      "cell_type": "code",
      "execution_count": 17,
      "metadata": {
        "collapsed": true,
        "id": "eC3-OjMclWuj"
      },
      "outputs": [],
      "source": [
        "from keras import regularizers\n",
        "\n",
        "l2_model = models.Sequential()\n",
        "l2_model.add(layers.Dense(16, kernel_regularizer=regularizers.l2(0.001),\n",
        "                          activation='relu', input_shape=(10000,)))\n",
        "\n",
        "#TODO: Add a dense layer with 16 unuts with L2 regularization\n",
        "\n",
        "l2_model.add(layers.Dense(1, activation='sigmoid'))"
      ]
    },
    {
      "cell_type": "code",
      "execution_count": 18,
      "metadata": {
        "collapsed": true,
        "id": "OaCiCrxNlWuj"
      },
      "outputs": [],
      "source": [
        "l2_model.compile(optimizer='rmsprop',\n",
        "                 loss='binary_crossentropy',\n",
        "                 metrics=['acc'])"
      ]
    },
    {
      "cell_type": "markdown",
      "metadata": {
        "id": "u3fi3YEvlWuj"
      },
      "source": [
        "`l2(0.001)` means that every coefficient in the weight matrix of the layer will add `0.001 * weight_coefficient_value` to the total loss of\n",
        "the network. Note that because this penalty is _only added at training time_, the loss for this network will be much higher at training\n",
        "than at test time.\n",
        "\n"
      ]
    },
    {
      "cell_type": "markdown",
      "metadata": {
        "id": "Je1FLLMJJnii"
      },
      "source": [
        "**Train the model with regularization and compare the validation loss between this model and the `original_model` and `smaller model`.**"
      ]
    },
    {
      "cell_type": "code",
      "execution_count": 19,
      "metadata": {
        "id": "TOA9BjOoJ_Nw",
        "colab": {
          "base_uri": "https://localhost:8080/"
        },
        "outputId": "3a7485ca-d7ac-4721-e419-502d18069e83"
      },
      "outputs": [
        {
          "output_type": "stream",
          "name": "stdout",
          "text": [
            "Epoch 1/20\n",
            "\u001b[1m49/49\u001b[0m \u001b[32m━━━━━━━━━━━━━━━━━━━━\u001b[0m\u001b[37m\u001b[0m \u001b[1m5s\u001b[0m 74ms/step - acc: 0.7540 - loss: 0.5698 - val_acc: 0.8752 - val_loss: 0.3897\n",
            "Epoch 2/20\n",
            "\u001b[1m49/49\u001b[0m \u001b[32m━━━━━━━━━━━━━━━━━━━━\u001b[0m\u001b[37m\u001b[0m \u001b[1m2s\u001b[0m 38ms/step - acc: 0.8942 - loss: 0.3438 - val_acc: 0.8780 - val_loss: 0.3515\n",
            "Epoch 3/20\n",
            "\u001b[1m49/49\u001b[0m \u001b[32m━━━━━━━━━━━━━━━━━━━━\u001b[0m\u001b[37m\u001b[0m \u001b[1m2s\u001b[0m 39ms/step - acc: 0.9167 - loss: 0.2855 - val_acc: 0.8887 - val_loss: 0.3262\n",
            "Epoch 4/20\n",
            "\u001b[1m49/49\u001b[0m \u001b[32m━━━━━━━━━━━━━━━━━━━━\u001b[0m\u001b[37m\u001b[0m \u001b[1m2s\u001b[0m 51ms/step - acc: 0.9259 - loss: 0.2603 - val_acc: 0.8872 - val_loss: 0.3249\n",
            "Epoch 5/20\n",
            "\u001b[1m49/49\u001b[0m \u001b[32m━━━━━━━━━━━━━━━━━━━━\u001b[0m\u001b[37m\u001b[0m \u001b[1m3s\u001b[0m 59ms/step - acc: 0.9292 - loss: 0.2519 - val_acc: 0.8853 - val_loss: 0.3274\n",
            "Epoch 6/20\n",
            "\u001b[1m49/49\u001b[0m \u001b[32m━━━━━━━━━━━━━━━━━━━━\u001b[0m\u001b[37m\u001b[0m \u001b[1m5s\u001b[0m 51ms/step - acc: 0.9346 - loss: 0.2435 - val_acc: 0.8862 - val_loss: 0.3279\n",
            "Epoch 7/20\n",
            "\u001b[1m49/49\u001b[0m \u001b[32m━━━━━━━━━━━━━━━━━━━━\u001b[0m\u001b[37m\u001b[0m \u001b[1m2s\u001b[0m 35ms/step - acc: 0.9335 - loss: 0.2385 - val_acc: 0.8844 - val_loss: 0.3319\n",
            "Epoch 8/20\n",
            "\u001b[1m49/49\u001b[0m \u001b[32m━━━━━━━━━━━━━━━━━━━━\u001b[0m\u001b[37m\u001b[0m \u001b[1m2s\u001b[0m 37ms/step - acc: 0.9393 - loss: 0.2291 - val_acc: 0.8837 - val_loss: 0.3350\n",
            "Epoch 9/20\n",
            "\u001b[1m49/49\u001b[0m \u001b[32m━━━━━━━━━━━━━━━━━━━━\u001b[0m\u001b[37m\u001b[0m \u001b[1m3s\u001b[0m 55ms/step - acc: 0.9444 - loss: 0.2217 - val_acc: 0.8840 - val_loss: 0.3362\n",
            "Epoch 10/20\n",
            "\u001b[1m49/49\u001b[0m \u001b[32m━━━━━━━━━━━━━━━━━━━━\u001b[0m\u001b[37m\u001b[0m \u001b[1m2s\u001b[0m 37ms/step - acc: 0.9410 - loss: 0.2228 - val_acc: 0.8831 - val_loss: 0.3368\n",
            "Epoch 11/20\n",
            "\u001b[1m49/49\u001b[0m \u001b[32m━━━━━━━━━━━━━━━━━━━━\u001b[0m\u001b[37m\u001b[0m \u001b[1m2s\u001b[0m 36ms/step - acc: 0.9421 - loss: 0.2197 - val_acc: 0.8758 - val_loss: 0.3523\n",
            "Epoch 12/20\n",
            "\u001b[1m49/49\u001b[0m \u001b[32m━━━━━━━━━━━━━━━━━━━━\u001b[0m\u001b[37m\u001b[0m \u001b[1m2s\u001b[0m 35ms/step - acc: 0.9417 - loss: 0.2206 - val_acc: 0.8818 - val_loss: 0.3404\n",
            "Epoch 13/20\n",
            "\u001b[1m49/49\u001b[0m \u001b[32m━━━━━━━━━━━━━━━━━━━━\u001b[0m\u001b[37m\u001b[0m \u001b[1m3s\u001b[0m 37ms/step - acc: 0.9461 - loss: 0.2137 - val_acc: 0.8748 - val_loss: 0.3604\n",
            "Epoch 14/20\n",
            "\u001b[1m49/49\u001b[0m \u001b[32m━━━━━━━━━━━━━━━━━━━━\u001b[0m\u001b[37m\u001b[0m \u001b[1m4s\u001b[0m 62ms/step - acc: 0.9474 - loss: 0.2101 - val_acc: 0.8782 - val_loss: 0.3505\n",
            "Epoch 15/20\n",
            "\u001b[1m49/49\u001b[0m \u001b[32m━━━━━━━━━━━━━━━━━━━━\u001b[0m\u001b[37m\u001b[0m \u001b[1m4s\u001b[0m 36ms/step - acc: 0.9453 - loss: 0.2092 - val_acc: 0.8750 - val_loss: 0.3567\n",
            "Epoch 16/20\n",
            "\u001b[1m49/49\u001b[0m \u001b[32m━━━━━━━━━━━━━━━━━━━━\u001b[0m\u001b[37m\u001b[0m \u001b[1m2s\u001b[0m 37ms/step - acc: 0.9454 - loss: 0.2097 - val_acc: 0.8774 - val_loss: 0.3520\n",
            "Epoch 17/20\n",
            "\u001b[1m49/49\u001b[0m \u001b[32m━━━━━━━━━━━━━━━━━━━━\u001b[0m\u001b[37m\u001b[0m \u001b[1m2s\u001b[0m 36ms/step - acc: 0.9492 - loss: 0.2044 - val_acc: 0.8726 - val_loss: 0.3652\n",
            "Epoch 18/20\n",
            "\u001b[1m49/49\u001b[0m \u001b[32m━━━━━━━━━━━━━━━━━━━━\u001b[0m\u001b[37m\u001b[0m \u001b[1m2s\u001b[0m 50ms/step - acc: 0.9494 - loss: 0.2039 - val_acc: 0.8782 - val_loss: 0.3531\n",
            "Epoch 19/20\n",
            "\u001b[1m49/49\u001b[0m \u001b[32m━━━━━━━━━━━━━━━━━━━━\u001b[0m\u001b[37m\u001b[0m \u001b[1m2s\u001b[0m 46ms/step - acc: 0.9508 - loss: 0.2005 - val_acc: 0.8782 - val_loss: 0.3506\n",
            "Epoch 20/20\n",
            "\u001b[1m49/49\u001b[0m \u001b[32m━━━━━━━━━━━━━━━━━━━━\u001b[0m\u001b[37m\u001b[0m \u001b[1m2s\u001b[0m 37ms/step - acc: 0.9514 - loss: 0.1983 - val_acc: 0.8648 - val_loss: 0.3889\n"
          ]
        }
      ],
      "source": [
        "#TODO: your code here\n",
        "l2_hist = l2_model.fit(\n",
        "    x_train, y_train,\n",
        "    epochs=20,\n",
        "    batch_size=512,\n",
        "    validation_data=(x_test, y_test)\n",
        ")\n",
        "\n"
      ]
    },
    {
      "cell_type": "markdown",
      "metadata": {
        "id": "KW5NIFdflWuj"
      },
      "source": [
        "**Note:** As alternatives to L2 regularization, you could use one of the following Keras weight regularizers:"
      ]
    },
    {
      "cell_type": "code",
      "execution_count": null,
      "metadata": {
        "collapsed": true,
        "id": "nIBko9i_lWuj"
      },
      "outputs": [],
      "source": [
        "from keras import regularizers\n",
        "\n",
        "# L1 regularization\n",
        "regularizers.l1(0.001)\n",
        "\n",
        "# L1 and L2 regularization at the same time\n",
        "regularizers.l1_l2(l1=0.001, l2=0.001)"
      ]
    },
    {
      "cell_type": "markdown",
      "metadata": {
        "id": "6C_YYIRgKRpg"
      },
      "source": [
        "## Recap"
      ]
    },
    {
      "cell_type": "markdown",
      "metadata": {
        "id": "ZRbCd03LyHEF"
      },
      "source": [
        "To recap: here the most common ways to prevent overfitting in neural networks:\n",
        "\n",
        "* Getting more training data.\n",
        "* Reducing the capacity of the network.\n",
        "* Adding weight regularization.\n",
        "* Adding dropout. (next session)"
      ]
    },
    {
      "cell_type": "markdown",
      "metadata": {
        "id": "ZvGql3lUKa7h"
      },
      "source": [
        "**Observation 1:** The bigger network gets its training loss near zero very quickly. The more capacity the network has, the quicker it will be\n",
        "able to model the training data (resulting in a low training loss), but the more susceptible it is to overfitting (resulting in a large\n",
        "difference between the training and validation loss).\n",
        "\n",
        "**Observation 2:** The model with L2 regularization has become much more resistant to overfitting than the reference model,\n",
        "even though both models have the same number of parameters."
      ]
    },
    {
      "cell_type": "code",
      "execution_count": null,
      "metadata": {
        "id": "uUGQbuanyTmh"
      },
      "outputs": [],
      "source": []
    }
  ],
  "metadata": {
    "colab": {
      "provenance": [],
      "include_colab_link": true
    },
    "kernelspec": {
      "display_name": "Python 3",
      "language": "python",
      "name": "python3"
    },
    "language_info": {
      "codemirror_mode": {
        "name": "ipython",
        "version": 3
      },
      "file_extension": ".py",
      "mimetype": "text/x-python",
      "name": "python",
      "nbconvert_exporter": "python",
      "pygments_lexer": "ipython3",
      "version": "3.5.2"
    }
  },
  "nbformat": 4,
  "nbformat_minor": 0
}